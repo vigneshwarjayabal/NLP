{
  "nbformat": 4,
  "nbformat_minor": 0,
  "metadata": {
    "colab": {
      "provenance": [],
      "include_colab_link": true
    },
    "kernelspec": {
      "name": "python3",
      "display_name": "Python 3"
    },
    "language_info": {
      "name": "python"
    }
  },
  "cells": [
    {
      "cell_type": "markdown",
      "metadata": {
        "id": "view-in-github",
        "colab_type": "text"
      },
      "source": [
        "<a href=\"https://colab.research.google.com/github/vigneshwarjayabal/NLP/blob/main/NLP.ipynb\" target=\"_parent\"><img src=\"https://colab.research.google.com/assets/colab-badge.svg\" alt=\"Open In Colab\"/></a>"
      ]
    },
    {
      "cell_type": "markdown",
      "source": [
        "#**Phase 1: Python Text Basics**"
      ],
      "metadata": {
        "id": "krNJ6JWzKpPO"
      }
    },
    {
      "cell_type": "markdown",
      "source": [
        "Some basic print formating (f-string literal) with aligment options."
      ],
      "metadata": {
        "id": "nwFnlh5vK5U8"
      }
    },
    {
      "cell_type": "code",
      "execution_count": null,
      "metadata": {
        "colab": {
          "base_uri": "https://localhost:8080/"
        },
        "id": "spdOn8ALKdE-",
        "outputId": "4c93a2db-2303-4d1f-9de8-8ffb7f811a2f"
      },
      "outputs": [
        {
          "output_type": "stream",
          "name": "stdout",
          "text": [
            "my name is vignesh\n"
          ]
        }
      ],
      "source": [
        "person = \"vignesh\"  #old way to format the string\n",
        "\n",
        "print(\"my name is {}\".format(person))"
      ]
    },
    {
      "cell_type": "code",
      "source": [
        "#f-string\n",
        "print(f\"my name is {person}\")"
      ],
      "metadata": {
        "colab": {
          "base_uri": "https://localhost:8080/"
        },
        "id": "VmFrvntwLXzJ",
        "outputId": "e980d121-10d2-4cac-ad7d-8c3fd99f22da"
      },
      "execution_count": null,
      "outputs": [
        {
          "output_type": "stream",
          "name": "stdout",
          "text": [
            "my name is vignesh\n"
          ]
        }
      ]
    },
    {
      "cell_type": "code",
      "source": [
        "d = {'a':123,'b':456}\n",
        "\n",
        "print(f\"my number is {d['a']}\")"
      ],
      "metadata": {
        "colab": {
          "base_uri": "https://localhost:8080/"
        },
        "id": "7MI7vsEjLn6P",
        "outputId": "147644f9-3eb1-49a0-956b-59315f1fad49"
      },
      "execution_count": null,
      "outputs": [
        {
          "output_type": "stream",
          "name": "stdout",
          "text": [
            "my number is 123\n"
          ]
        }
      ]
    },
    {
      "cell_type": "code",
      "source": [
        "mylist = [0,1,2]\n",
        "\n",
        "print(f\"my number is {mylist[0]}\")"
      ],
      "metadata": {
        "colab": {
          "base_uri": "https://localhost:8080/"
        },
        "id": "uAf6eXKoME7Y",
        "outputId": "2603f673-a5b9-4c74-fa74-0f62a9f0b1d0"
      },
      "execution_count": null,
      "outputs": [
        {
          "output_type": "stream",
          "name": "stdout",
          "text": [
            "my number is 0\n"
          ]
        }
      ]
    },
    {
      "cell_type": "code",
      "source": [
        "library = [('Author', 'Topic', 'Pages'), ('Twain', 'Rafting in water alone', 601), ('Feynman', 'Physics', 95), ('Hamilton', 'Mythology', 144)]"
      ],
      "metadata": {
        "id": "IK69rRKuMSWU"
      },
      "execution_count": null,
      "outputs": []
    },
    {
      "cell_type": "code",
      "source": [
        "library"
      ],
      "metadata": {
        "colab": {
          "base_uri": "https://localhost:8080/"
        },
        "id": "Enn7TtqMM6Qg",
        "outputId": "745a8aba-23e8-4f0b-a766-f686ce2d1a02"
      },
      "execution_count": null,
      "outputs": [
        {
          "output_type": "execute_result",
          "data": {
            "text/plain": [
              "[('Author', 'Topic', 'Pages'),\n",
              " ('Twain', 'Rafting in water alone', 601),\n",
              " ('Feynman', 'Physics', 95),\n",
              " ('Hamilton', 'Mythology', 144)]"
            ]
          },
          "metadata": {},
          "execution_count": 11
        }
      ]
    },
    {
      "cell_type": "markdown",
      "source": [
        "**Minimum Widths, Alignment and Padding**\n",
        "\n",
        "You can pass arguments inside a nested set of curly braces to set a minimum width for the field, the alignment and even padding characters."
      ],
      "metadata": {
        "id": "ZDPqQ75dNuUc"
      }
    },
    {
      "cell_type": "code",
      "source": [
        "for author,topic,pages in library:\n",
        "  print(f\"{author} {topic} {pages}\")"
      ],
      "metadata": {
        "colab": {
          "base_uri": "https://localhost:8080/"
        },
        "id": "g1TWPCy6M75H",
        "outputId": "63f08bec-06b0-4c9d-fa7d-9efca19346e4"
      },
      "execution_count": null,
      "outputs": [
        {
          "output_type": "stream",
          "name": "stdout",
          "text": [
            "Author Topic Pages\n",
            "Twain Rafting in water alone 601\n",
            "Feynman Physics 95\n",
            "Hamilton Mythology 144\n"
          ]
        }
      ]
    },
    {
      "cell_type": "markdown",
      "source": [
        "inside the placeholder put : open curly bracket give number space you want."
      ],
      "metadata": {
        "id": "RuH8HjMdPJAp"
      }
    },
    {
      "cell_type": "code",
      "source": [
        "for author,topic,pages in library:\n",
        "  print(f\"{author:{10}} {topic:{30}} {pages:{10}}\")"
      ],
      "metadata": {
        "colab": {
          "base_uri": "https://localhost:8080/"
        },
        "id": "9UZHu0FuODkB",
        "outputId": "91ef242a-1859-41f1-fe42-e112cb1d2e4d"
      },
      "execution_count": null,
      "outputs": [
        {
          "output_type": "stream",
          "name": "stdout",
          "text": [
            "Author     Topic                          Pages     \n",
            "Twain      Rafting in water alone                601\n",
            "Feynman    Physics                                95\n",
            "Hamilton   Mythology                             144\n"
          ]
        }
      ]
    },
    {
      "cell_type": "markdown",
      "source": [
        "To set the alignment, use the character `<` for left-align,  `^` for center, `>` for right."
      ],
      "metadata": {
        "id": "bLDJtPAPPFiN"
      }
    },
    {
      "cell_type": "code",
      "source": [
        "for author,topic,pages in library:\n",
        "  print(f\"{author:{10}} {topic:{30}} {pages:>{10}}\")"
      ],
      "metadata": {
        "colab": {
          "base_uri": "https://localhost:8080/"
        },
        "id": "Dqy93ERkOWDU",
        "outputId": "858f3d63-0ff9-4938-e93c-54ad14d38dbd"
      },
      "execution_count": null,
      "outputs": [
        {
          "output_type": "stream",
          "name": "stdout",
          "text": [
            "Author     Topic                               Pages\n",
            "Twain      Rafting in water alone                601\n",
            "Feynman    Physics                                95\n",
            "Hamilton   Mythology                             144\n"
          ]
        }
      ]
    },
    {
      "cell_type": "markdown",
      "source": [
        "To set padding, precede the alignment character with the padding character (`-` and `.` are common choices)."
      ],
      "metadata": {
        "id": "j7HS3MVcPwr-"
      }
    },
    {
      "cell_type": "code",
      "source": [
        "for author,topic,pages in library:\n",
        "  print(f\"{author:{10}} {topic:{30}} {pages:->{10}}\")"
      ],
      "metadata": {
        "colab": {
          "base_uri": "https://localhost:8080/"
        },
        "id": "hUyX1S9MOnjB",
        "outputId": "e23db235-f849-42e2-d687-f3f45c986191"
      },
      "execution_count": null,
      "outputs": [
        {
          "output_type": "stream",
          "name": "stdout",
          "text": [
            "Author     Topic                          -----Pages\n",
            "Twain      Rafting in water alone         -------601\n",
            "Feynman    Physics                        --------95\n",
            "Hamilton   Mythology                      -------144\n"
          ]
        }
      ]
    },
    {
      "cell_type": "code",
      "source": [
        "for author,topic,pages in library:\n",
        "  print(f\"{author:{10}} {topic:{30}} {pages:.>{10}}\")"
      ],
      "metadata": {
        "colab": {
          "base_uri": "https://localhost:8080/"
        },
        "id": "UXQu8RJ-PkPq",
        "outputId": "43376261-fd09-4546-c21c-aff04e986892"
      },
      "execution_count": null,
      "outputs": [
        {
          "output_type": "stream",
          "name": "stdout",
          "text": [
            "Author     Topic                          .....Pages\n",
            "Twain      Rafting in water alone         .......601\n",
            "Feynman    Physics                        ........95\n",
            "Hamilton   Mythology                      .......144\n"
          ]
        }
      ]
    },
    {
      "cell_type": "markdown",
      "source": [
        "Date Formatting"
      ],
      "metadata": {
        "id": "vbwFLjMcQNv8"
      }
    },
    {
      "cell_type": "code",
      "source": [
        "from datetime import datetime\n",
        "\n",
        "today = datetime(year=2025, month=1, day=27)\n",
        "\n",
        "print(f'{today}')"
      ],
      "metadata": {
        "colab": {
          "base_uri": "https://localhost:8080/"
        },
        "id": "e3k-SKWVP3Pz",
        "outputId": "fe7136c9-5ba5-41aa-d735-d3f14d4ced5f"
      },
      "execution_count": null,
      "outputs": [
        {
          "output_type": "stream",
          "name": "stdout",
          "text": [
            "2025-01-27 00:00:00\n"
          ]
        }
      ]
    },
    {
      "cell_type": "code",
      "source": [
        "from datetime import datetime\n",
        "\n",
        "today = datetime(year=2025, month=1, day=27)\n",
        "\n",
        "print(f'{today:%B %d, %Y}')"
      ],
      "metadata": {
        "colab": {
          "base_uri": "https://localhost:8080/"
        },
        "id": "okoG-lfwQWiu",
        "outputId": "1a9039ce-fe9d-4dd5-b9b9-5617bf068fcf"
      },
      "execution_count": null,
      "outputs": [
        {
          "output_type": "stream",
          "name": "stdout",
          "text": [
            "January 27, 2025\n"
          ]
        }
      ]
    },
    {
      "cell_type": "code",
      "source": [
        "today"
      ],
      "metadata": {
        "colab": {
          "base_uri": "https://localhost:8080/"
        },
        "id": "iuzLNmVbQkXh",
        "outputId": "8000258a-eb20-4a81-b2cb-5f6b19e95986"
      },
      "execution_count": null,
      "outputs": [
        {
          "output_type": "execute_result",
          "data": {
            "text/plain": [
              "datetime.datetime(2025, 1, 27, 0, 0)"
            ]
          },
          "metadata": {},
          "execution_count": 21
        }
      ]
    },
    {
      "cell_type": "markdown",
      "source": [
        "How to read and write to text files with python"
      ],
      "metadata": {
        "id": "DXX4BCr2Q76b"
      }
    },
    {
      "cell_type": "code",
      "source": [
        "%%writefile test.txt\n",
        "Hello, this is a quick test file.\n",
        "This is the second line of the file ."
      ],
      "metadata": {
        "colab": {
          "base_uri": "https://localhost:8080/"
        },
        "id": "FbjF9erfQrSm",
        "outputId": "5f224cfa-c1bc-4ae0-d7e1-a4e60c4a67d6"
      },
      "execution_count": 1,
      "outputs": [
        {
          "output_type": "stream",
          "name": "stdout",
          "text": [
            "Writing test.txt\n"
          ]
        }
      ]
    },
    {
      "cell_type": "code",
      "source": [
        "myfile = open('test.txt')"
      ],
      "metadata": {
        "id": "i6kSJf7lRqPe"
      },
      "execution_count": 2,
      "outputs": []
    },
    {
      "cell_type": "code",
      "source": [
        "myfile"
      ],
      "metadata": {
        "id": "L1UUNTyMy8CT",
        "outputId": "c0ca5356-e33e-4d07-afb7-5966eaaa31fd",
        "colab": {
          "base_uri": "https://localhost:8080/"
        }
      },
      "execution_count": 3,
      "outputs": [
        {
          "output_type": "execute_result",
          "data": {
            "text/plain": [
              "<_io.TextIOWrapper name='test.txt' mode='r' encoding='UTF-8'>"
            ]
          },
          "metadata": {},
          "execution_count": 3
        }
      ]
    },
    {
      "cell_type": "markdown",
      "source": [
        "**Alternatively, to grab files from any location on your computer, simply pass in the entire file path.**\n",
        "\n",
        "For Windows you need to use double \\ so python doesn't treat the second \\ as an escape character, a file path is in the form:\n",
        "\n",
        "    myfile = open(\"C:\\\\Users\\\\YourUserName\\\\Home\\\\Folder\\\\myfile.txt\")\n",
        "\n",
        "For MacOS and Linux you use slashes in the opposite direction:\n",
        "\n",
        "    myfile = open(\"/Users/YourUserName/Folder/myfile.txt\")"
      ],
      "metadata": {
        "id": "uyOuG5rR0VDG"
      }
    },
    {
      "cell_type": "code",
      "source": [
        "myfile.read()"
      ],
      "metadata": {
        "id": "sDNlmvx8y-Kp",
        "outputId": "c8bfe94c-9740-4b0d-b974-3dd1b8701668",
        "colab": {
          "base_uri": "https://localhost:8080/",
          "height": 36
        }
      },
      "execution_count": 4,
      "outputs": [
        {
          "output_type": "execute_result",
          "data": {
            "text/plain": [
              "'Hello, this is a quick test file.\\nThis is the second line of the file .\\n'"
            ],
            "application/vnd.google.colaboratory.intrinsic+json": {
              "type": "string"
            }
          },
          "metadata": {},
          "execution_count": 4
        }
      ]
    },
    {
      "cell_type": "code",
      "source": [
        "myfile.read()"
      ],
      "metadata": {
        "id": "mfgkiGNu07k1",
        "outputId": "ff1ab7ad-9c8a-448b-9ba6-b80e8695ca5f",
        "colab": {
          "base_uri": "https://localhost:8080/",
          "height": 36
        }
      },
      "execution_count": 5,
      "outputs": [
        {
          "output_type": "execute_result",
          "data": {
            "text/plain": [
              "''"
            ],
            "application/vnd.google.colaboratory.intrinsic+json": {
              "type": "string"
            }
          },
          "metadata": {},
          "execution_count": 5
        }
      ]
    },
    {
      "cell_type": "markdown",
      "source": [
        "This happens because you can imagine the reading \"cursor\" is at the end of the file after having read it. So there is nothing left to read. We can reset the \"cursor\" like this:"
      ],
      "metadata": {
        "id": "mAAsWYwh1Xnk"
      }
    },
    {
      "cell_type": "code",
      "source": [
        "myfile.seek(0)"
      ],
      "metadata": {
        "id": "pDl_jfH31OmH",
        "outputId": "ab61105f-57ec-4217-c5fd-224c20764ad5",
        "colab": {
          "base_uri": "https://localhost:8080/"
        }
      },
      "execution_count": 6,
      "outputs": [
        {
          "output_type": "execute_result",
          "data": {
            "text/plain": [
              "0"
            ]
          },
          "metadata": {},
          "execution_count": 6
        }
      ]
    },
    {
      "cell_type": "code",
      "source": [
        "myfile.read()"
      ],
      "metadata": {
        "id": "Re9lL7JM1iA8",
        "outputId": "17787572-a71b-48d3-cf62-4032c7133f3c",
        "colab": {
          "base_uri": "https://localhost:8080/",
          "height": 36
        }
      },
      "execution_count": 7,
      "outputs": [
        {
          "output_type": "execute_result",
          "data": {
            "text/plain": [
              "'Hello, this is a quick test file.\\nThis is the second line of the file .\\n'"
            ],
            "application/vnd.google.colaboratory.intrinsic+json": {
              "type": "string"
            }
          },
          "metadata": {},
          "execution_count": 7
        }
      ]
    },
    {
      "cell_type": "code",
      "source": [
        "myfile.seek(0)"
      ],
      "metadata": {
        "id": "tvpCG9BB19eU",
        "outputId": "f15b41c0-301f-4032-8d90-48a593caf738",
        "colab": {
          "base_uri": "https://localhost:8080/"
        }
      },
      "execution_count": 10,
      "outputs": [
        {
          "output_type": "execute_result",
          "data": {
            "text/plain": [
              "0"
            ]
          },
          "metadata": {},
          "execution_count": 10
        }
      ]
    },
    {
      "cell_type": "code",
      "source": [
        "content = myfile.read()"
      ],
      "metadata": {
        "id": "E7YvBT6o1kYk"
      },
      "execution_count": 11,
      "outputs": []
    },
    {
      "cell_type": "code",
      "source": [
        "print(content)"
      ],
      "metadata": {
        "id": "XHiM0lNh12ZM",
        "outputId": "839c0ecf-1cba-46b3-92ee-d24cf2b43500",
        "colab": {
          "base_uri": "https://localhost:8080/"
        }
      },
      "execution_count": 12,
      "outputs": [
        {
          "output_type": "stream",
          "name": "stdout",
          "text": [
            "Hello, this is a quick test file.\n",
            "This is the second line of the file .\n",
            "\n"
          ]
        }
      ]
    },
    {
      "cell_type": "code",
      "source": [
        "content"
      ],
      "metadata": {
        "id": "s8fqvv9r149X",
        "outputId": "d0950c1c-667d-4ee5-8047-b506a45121e1",
        "colab": {
          "base_uri": "https://localhost:8080/",
          "height": 36
        }
      },
      "execution_count": 13,
      "outputs": [
        {
          "output_type": "execute_result",
          "data": {
            "text/plain": [
              "'Hello, this is a quick test file.\\nThis is the second line of the file .\\n'"
            ],
            "application/vnd.google.colaboratory.intrinsic+json": {
              "type": "string"
            }
          },
          "metadata": {},
          "execution_count": 13
        }
      ]
    },
    {
      "cell_type": "code",
      "source": [
        "myfile.seek(0)"
      ],
      "metadata": {
        "id": "508akrej2CEr",
        "outputId": "ac2b7fd6-930e-4401-da7e-a40f0d5853b0",
        "colab": {
          "base_uri": "https://localhost:8080/"
        }
      },
      "execution_count": 14,
      "outputs": [
        {
          "output_type": "execute_result",
          "data": {
            "text/plain": [
              "0"
            ]
          },
          "metadata": {},
          "execution_count": 14
        }
      ]
    },
    {
      "cell_type": "markdown",
      "source": [
        "**.readlines()**\n",
        "You can read a file line by line using the readlines method. Use caution with large files, since everything will be held in memory. We will learn how to iterate over large files later in the course."
      ],
      "metadata": {
        "id": "nGVFhk_a2P38"
      }
    },
    {
      "cell_type": "code",
      "source": [
        "content = myfile.readlines()"
      ],
      "metadata": {
        "id": "S_sVgV6k2Ew7"
      },
      "execution_count": 15,
      "outputs": []
    },
    {
      "cell_type": "code",
      "source": [
        "for line in content:\n",
        "  print(line.split()[0])"
      ],
      "metadata": {
        "id": "njIdMy9X509B",
        "outputId": "f2bbdaa8-7bbb-481d-f265-b9eb26496065",
        "colab": {
          "base_uri": "https://localhost:8080/"
        }
      },
      "execution_count": 18,
      "outputs": [
        {
          "output_type": "stream",
          "name": "stdout",
          "text": [
            "Hello,\n",
            "This\n"
          ]
        }
      ]
    },
    {
      "cell_type": "code",
      "source": [
        "content"
      ],
      "metadata": {
        "id": "Nkv1KIyB2UeA",
        "outputId": "c8657ba6-d5b6-49c9-a503-2a937ae20b05",
        "colab": {
          "base_uri": "https://localhost:8080/"
        }
      },
      "execution_count": 16,
      "outputs": [
        {
          "output_type": "execute_result",
          "data": {
            "text/plain": [
              "['Hello, this is a quick test file.\\n',\n",
              " 'This is the second line of the file .\\n']"
            ]
          },
          "metadata": {},
          "execution_count": 16
        }
      ]
    },
    {
      "cell_type": "markdown",
      "source": [
        "When you have finished using a file, it is always good practice to close it."
      ],
      "metadata": {
        "id": "yGJjglgP2kCw"
      }
    },
    {
      "cell_type": "code",
      "source": [
        "myfile.close()"
      ],
      "metadata": {
        "id": "UmPFljX52VlW"
      },
      "execution_count": 19,
      "outputs": []
    },
    {
      "cell_type": "markdown",
      "source": [
        "**Writing to a File**\n",
        "\n",
        "By default, the `open()` function will only allow us to read the file. We need to pass the argument `'w'` to write over the file. For example:"
      ],
      "metadata": {
        "id": "mTOFrNG_6WZI"
      }
    },
    {
      "cell_type": "code",
      "source": [
        "myfile = open('test.txt','w+')"
      ],
      "metadata": {
        "id": "nL8B0f-22mLz"
      },
      "execution_count": 34,
      "outputs": []
    },
    {
      "cell_type": "code",
      "source": [
        "myfile.read()"
      ],
      "metadata": {
        "id": "jKPj0dHG7IcK",
        "outputId": "1c35e136-ad41-4732-8eef-5e147eb696c2",
        "colab": {
          "base_uri": "https://localhost:8080/",
          "height": 36
        }
      },
      "execution_count": 35,
      "outputs": [
        {
          "output_type": "execute_result",
          "data": {
            "text/plain": [
              "''"
            ],
            "application/vnd.google.colaboratory.intrinsic+json": {
              "type": "string"
            }
          },
          "metadata": {},
          "execution_count": 35
        }
      ]
    },
    {
      "cell_type": "markdown",
      "source": [
        "<div class=\"alert alert-danger\" style=\"margin: 20px\">**Use caution!**<br>\n",
        "Opening a file with 'w' or 'w+' *truncates the original*, meaning that anything that was in the original file **is deleted**!</div>"
      ],
      "metadata": {
        "id": "9oHHyfRy6nKl"
      }
    },
    {
      "cell_type": "code",
      "source": [
        "myfile.write('MY BRAND NEW TEXT\\n')"
      ],
      "metadata": {
        "id": "z-4T1WQD6g39",
        "outputId": "c51d215e-84d9-4753-fe5c-74cdc18f016e",
        "colab": {
          "base_uri": "https://localhost:8080/"
        }
      },
      "execution_count": 36,
      "outputs": [
        {
          "output_type": "execute_result",
          "data": {
            "text/plain": [
              "18"
            ]
          },
          "metadata": {},
          "execution_count": 36
        }
      ]
    },
    {
      "cell_type": "code",
      "source": [
        "myfile.write('I LOVE YOU \\n')"
      ],
      "metadata": {
        "id": "Dfhct8mU8QDz",
        "outputId": "757709af-c1f9-47e6-c8e4-7b0e6230850e",
        "colab": {
          "base_uri": "https://localhost:8080/"
        }
      },
      "execution_count": 39,
      "outputs": [
        {
          "output_type": "execute_result",
          "data": {
            "text/plain": [
              "12"
            ]
          },
          "metadata": {},
          "execution_count": 39
        }
      ]
    },
    {
      "cell_type": "code",
      "source": [
        "myfile.write('WILL YOU MARRY ME\\n')"
      ],
      "metadata": {
        "id": "3V8iOtYo8Yyc",
        "outputId": "17a5497c-67e2-457e-bf81-1b511ee17a17",
        "colab": {
          "base_uri": "https://localhost:8080/"
        }
      },
      "execution_count": 40,
      "outputs": [
        {
          "output_type": "execute_result",
          "data": {
            "text/plain": [
              "18"
            ]
          },
          "metadata": {},
          "execution_count": 40
        }
      ]
    },
    {
      "cell_type": "code",
      "source": [
        "myfile.seek(0)"
      ],
      "metadata": {
        "id": "hZUQmrcF7Z83",
        "outputId": "2bce688e-2981-46f7-933f-16205ae06232",
        "colab": {
          "base_uri": "https://localhost:8080/"
        }
      },
      "execution_count": 41,
      "outputs": [
        {
          "output_type": "execute_result",
          "data": {
            "text/plain": [
              "0"
            ]
          },
          "metadata": {},
          "execution_count": 41
        }
      ]
    },
    {
      "cell_type": "code",
      "source": [
        "myfile.read()"
      ],
      "metadata": {
        "id": "zCLHvhb27dPw",
        "outputId": "24878e92-447c-433c-c571-af5232481204",
        "colab": {
          "base_uri": "https://localhost:8080/",
          "height": 36
        }
      },
      "execution_count": 42,
      "outputs": [
        {
          "output_type": "execute_result",
          "data": {
            "text/plain": [
              "'MY BRAND NEW TEXT\\nI LOVE YOU \\nWILL YOU MARRY ME\\n'"
            ],
            "application/vnd.google.colaboratory.intrinsic+json": {
              "type": "string"
            }
          },
          "metadata": {},
          "execution_count": 42
        }
      ]
    },
    {
      "cell_type": "code",
      "source": [
        "myfile.seek(0)"
      ],
      "metadata": {
        "id": "QiQPt4JP7gY2",
        "outputId": "42402f43-e77b-4d62-b2b8-8b5894c89961",
        "colab": {
          "base_uri": "https://localhost:8080/"
        }
      },
      "execution_count": 43,
      "outputs": [
        {
          "output_type": "execute_result",
          "data": {
            "text/plain": [
              "0"
            ]
          },
          "metadata": {},
          "execution_count": 43
        }
      ]
    },
    {
      "cell_type": "code",
      "source": [
        "lines = myfile.readlines()"
      ],
      "metadata": {
        "id": "Hv5bdOCr8kDZ"
      },
      "execution_count": 44,
      "outputs": []
    },
    {
      "cell_type": "code",
      "source": [
        "lines"
      ],
      "metadata": {
        "id": "sJNoXFyn8sLM",
        "outputId": "2b06f21a-d6a5-4aa7-8b0f-486238d89800",
        "colab": {
          "base_uri": "https://localhost:8080/"
        }
      },
      "execution_count": 45,
      "outputs": [
        {
          "output_type": "execute_result",
          "data": {
            "text/plain": [
              "['MY BRAND NEW TEXT\\n', 'I LOVE YOU \\n', 'WILL YOU MARRY ME\\n']"
            ]
          },
          "metadata": {},
          "execution_count": 45
        }
      ]
    },
    {
      "cell_type": "code",
      "source": [
        "print(lines)"
      ],
      "metadata": {
        "id": "DCmVRKXg8tT-",
        "outputId": "5a64e971-8224-439e-9c96-8763e763005e",
        "colab": {
          "base_uri": "https://localhost:8080/"
        }
      },
      "execution_count": 46,
      "outputs": [
        {
          "output_type": "stream",
          "name": "stdout",
          "text": [
            "['MY BRAND NEW TEXT\\n', 'I LOVE YOU \\n', 'WILL YOU MARRY ME\\n']\n"
          ]
        }
      ]
    },
    {
      "cell_type": "code",
      "source": [
        "myfile.close()"
      ],
      "metadata": {
        "id": "H4cfOhmz9UEo"
      },
      "execution_count": 50,
      "outputs": []
    },
    {
      "cell_type": "markdown",
      "source": [
        "**Appending to a File**\n",
        "Passing the argument `'a'` opens the file and puts the pointer at the end, so anything written is appended. Like `'w+'`, `'a+'` lets us read and write to a file. If the file does not exist, one will be created."
      ],
      "metadata": {
        "id": "mFZ1iAW-9SGl"
      }
    },
    {
      "cell_type": "code",
      "source": [
        "my_file = open('test.txt','a+')\n",
        "my_file.write('\\nThis line is being appended to test.txt')\n",
        "my_file.write('\\nAnd another line here.')"
      ],
      "metadata": {
        "id": "deDt2mY48xjP",
        "outputId": "00ebf571-4f3a-460c-a069-cef7a97ad507",
        "colab": {
          "base_uri": "https://localhost:8080/"
        }
      },
      "execution_count": 51,
      "outputs": [
        {
          "output_type": "execute_result",
          "data": {
            "text/plain": [
              "23"
            ]
          },
          "metadata": {},
          "execution_count": 51
        }
      ]
    },
    {
      "cell_type": "code",
      "source": [
        "my_file.seek(0)\n",
        "print(my_file.read())"
      ],
      "metadata": {
        "id": "MwczSG9m9fL7",
        "outputId": "72edbc11-24b2-4bd2-b741-c08a838bd511",
        "colab": {
          "base_uri": "https://localhost:8080/"
        }
      },
      "execution_count": 52,
      "outputs": [
        {
          "output_type": "stream",
          "name": "stdout",
          "text": [
            "MY BRAND NEW TEXT\n",
            "I LOVE YOU \n",
            "WILL YOU MARRY ME\n",
            "\n",
            "This line is being appended to test.txt\n",
            "And another line here.\n"
          ]
        }
      ]
    },
    {
      "cell_type": "code",
      "source": [
        "myfile1 = open('wow.txt','a+')"
      ],
      "metadata": {
        "id": "pIel22kh9jWh"
      },
      "execution_count": 60,
      "outputs": []
    },
    {
      "cell_type": "code",
      "source": [
        "myfile1.write('Dhoni is the best caption in the world')"
      ],
      "metadata": {
        "id": "KsZxmBmd-fO-",
        "outputId": "78271b27-5c03-4776-c934-c9e32ed18959",
        "colab": {
          "base_uri": "https://localhost:8080/"
        }
      },
      "execution_count": 61,
      "outputs": [
        {
          "output_type": "execute_result",
          "data": {
            "text/plain": [
              "38"
            ]
          },
          "metadata": {},
          "execution_count": 61
        }
      ]
    },
    {
      "cell_type": "code",
      "source": [
        "myfile1.seek(0)"
      ],
      "metadata": {
        "id": "xVD5SLQL_Nb0",
        "outputId": "9d774441-7487-4459-cde3-4c87e16ff33f",
        "colab": {
          "base_uri": "https://localhost:8080/"
        }
      },
      "execution_count": 64,
      "outputs": [
        {
          "output_type": "execute_result",
          "data": {
            "text/plain": [
              "0"
            ]
          },
          "metadata": {},
          "execution_count": 64
        }
      ]
    },
    {
      "cell_type": "code",
      "source": [
        "myfile1.read()"
      ],
      "metadata": {
        "id": "vNRMaX1s_FAg",
        "outputId": "f9e83183-b4f3-42aa-fb1b-77b4099f1670",
        "colab": {
          "base_uri": "https://localhost:8080/",
          "height": 36
        }
      },
      "execution_count": 65,
      "outputs": [
        {
          "output_type": "execute_result",
          "data": {
            "text/plain": [
              "'Dhoni is the best caption in the worldDhoni is the best caption in the world'"
            ],
            "application/vnd.google.colaboratory.intrinsic+json": {
              "type": "string"
            }
          },
          "metadata": {},
          "execution_count": 65
        }
      ]
    },
    {
      "cell_type": "code",
      "source": [
        "myfile.close()"
      ],
      "metadata": {
        "id": "sxzY1AjE-mis"
      },
      "execution_count": 66,
      "outputs": []
    },
    {
      "cell_type": "code",
      "source": [
        "file1 = open('wow.txt')"
      ],
      "metadata": {
        "id": "0ACujwmQ-qqe"
      },
      "execution_count": 67,
      "outputs": []
    },
    {
      "cell_type": "code",
      "source": [
        "file1.read()"
      ],
      "metadata": {
        "id": "1nvpSIj7-xWu",
        "outputId": "cf9ac40e-5660-4594-b321-a051b3b651d5",
        "colab": {
          "base_uri": "https://localhost:8080/",
          "height": 36
        }
      },
      "execution_count": 68,
      "outputs": [
        {
          "output_type": "execute_result",
          "data": {
            "text/plain": [
              "'Dhoni is the best caption in the worldDhoni is the best caption in the world'"
            ],
            "application/vnd.google.colaboratory.intrinsic+json": {
              "type": "string"
            }
          },
          "metadata": {},
          "execution_count": 68
        }
      ]
    },
    {
      "cell_type": "code",
      "source": [
        "file1.write('i try to write in read mode')"
      ],
      "metadata": {
        "id": "bVsF5w9B-zGi",
        "outputId": "6d5b5af9-f665-49cc-a035-f7281f6232c5",
        "colab": {
          "base_uri": "https://localhost:8080/",
          "height": 141
        }
      },
      "execution_count": 69,
      "outputs": [
        {
          "output_type": "error",
          "ename": "UnsupportedOperation",
          "evalue": "not writable",
          "traceback": [
            "\u001b[0;31m---------------------------------------------------------------------------\u001b[0m",
            "\u001b[0;31mUnsupportedOperation\u001b[0m                      Traceback (most recent call last)",
            "\u001b[0;32m<ipython-input-69-98b31fa392ed>\u001b[0m in \u001b[0;36m<cell line: 1>\u001b[0;34m()\u001b[0m\n\u001b[0;32m----> 1\u001b[0;31m \u001b[0mfile1\u001b[0m\u001b[0;34m.\u001b[0m\u001b[0mwrite\u001b[0m\u001b[0;34m(\u001b[0m\u001b[0;34m'i try to write in read mode'\u001b[0m\u001b[0;34m)\u001b[0m\u001b[0;34m\u001b[0m\u001b[0;34m\u001b[0m\u001b[0m\n\u001b[0m",
            "\u001b[0;31mUnsupportedOperation\u001b[0m: not writable"
          ]
        }
      ]
    },
    {
      "cell_type": "code",
      "source": [
        "file1.close()"
      ],
      "metadata": {
        "id": "ct3I-5h-AQ_i"
      },
      "execution_count": 70,
      "outputs": []
    },
    {
      "cell_type": "code",
      "source": [
        "file1 = open('wow.txt',mode='a+')"
      ],
      "metadata": {
        "id": "3hok4rkUBXGl"
      },
      "execution_count": 71,
      "outputs": []
    },
    {
      "cell_type": "code",
      "source": [
        "file1.write('\\n i like dhoni .')"
      ],
      "metadata": {
        "id": "t0c9TBRLBoiM",
        "outputId": "2cc6731d-e394-4a85-bbe7-1ba4f2501620",
        "colab": {
          "base_uri": "https://localhost:8080/"
        }
      },
      "execution_count": 72,
      "outputs": [
        {
          "output_type": "execute_result",
          "data": {
            "text/plain": [
              "16"
            ]
          },
          "metadata": {},
          "execution_count": 72
        }
      ]
    },
    {
      "cell_type": "code",
      "source": [
        "file1.seek(0)"
      ],
      "metadata": {
        "id": "bwZZqAvXBwol",
        "outputId": "d99a823f-2365-4c1c-b748-821513045879",
        "colab": {
          "base_uri": "https://localhost:8080/"
        }
      },
      "execution_count": 73,
      "outputs": [
        {
          "output_type": "execute_result",
          "data": {
            "text/plain": [
              "0"
            ]
          },
          "metadata": {},
          "execution_count": 73
        }
      ]
    },
    {
      "cell_type": "code",
      "source": [
        "file1.read()"
      ],
      "metadata": {
        "id": "odeH9L8VB0zH",
        "outputId": "e377f9bf-ca17-492e-ce6c-42d44a47b991",
        "colab": {
          "base_uri": "https://localhost:8080/",
          "height": 36
        }
      },
      "execution_count": 74,
      "outputs": [
        {
          "output_type": "execute_result",
          "data": {
            "text/plain": [
              "'Dhoni is the best caption in the worldDhoni is the best caption in the world\\n i like dhoni .'"
            ],
            "application/vnd.google.colaboratory.intrinsic+json": {
              "type": "string"
            }
          },
          "metadata": {},
          "execution_count": 74
        }
      ]
    },
    {
      "cell_type": "code",
      "source": [
        "file1.close()"
      ],
      "metadata": {
        "id": "I6NlHD4TB24k"
      },
      "execution_count": 75,
      "outputs": []
    },
    {
      "cell_type": "markdown",
      "source": [
        "Use this to automatically close the file after using it ."
      ],
      "metadata": {
        "id": "nMeI2XD1CfAO"
      }
    },
    {
      "cell_type": "code",
      "source": [
        "with open('wow.txt','r') as file2:\n",
        "  myfile2 = file2.readlines()\n",
        "  print(myfile2)"
      ],
      "metadata": {
        "id": "pclMAvvBCFus",
        "outputId": "4e0c24fb-6e12-4d89-b55c-9d222adebb65",
        "colab": {
          "base_uri": "https://localhost:8080/"
        }
      },
      "execution_count": 77,
      "outputs": [
        {
          "output_type": "stream",
          "name": "stdout",
          "text": [
            "['Dhoni is the best caption in the worldDhoni is the best caption in the world\\n', ' i like dhoni .']\n"
          ]
        }
      ]
    },
    {
      "cell_type": "markdown",
      "source": [
        "**Appending with `%%writefile`**"
      ],
      "metadata": {
        "id": "oYDglr7VCrzj"
      }
    },
    {
      "cell_type": "code",
      "source": [
        "%%writefile -a test.txt\n",
        "\n",
        "This is more text being appended to test.txt\n",
        "And another line here."
      ],
      "metadata": {
        "id": "nEO7da9GCVKV",
        "outputId": "51ce08ea-81f6-4780-a0f1-e4bd134650dd",
        "colab": {
          "base_uri": "https://localhost:8080/"
        }
      },
      "execution_count": 78,
      "outputs": [
        {
          "output_type": "stream",
          "name": "stdout",
          "text": [
            "Appending to test.txt\n"
          ]
        }
      ]
    },
    {
      "cell_type": "code",
      "source": [
        "with open('test.txt','r') as god:\n",
        "  god1 = god.read()\n",
        "  print(god1)"
      ],
      "metadata": {
        "id": "FlwO7yZlCvyl",
        "outputId": "72f32b1d-9606-451a-a3e6-680874d4e4d0",
        "colab": {
          "base_uri": "https://localhost:8080/"
        }
      },
      "execution_count": 79,
      "outputs": [
        {
          "output_type": "stream",
          "name": "stdout",
          "text": [
            "MY BRAND NEW TEXT\n",
            "I LOVE YOU \n",
            "WILL YOU MARRY ME\n",
            "\n",
            "This line is being appended to test.txt\n",
            "And another line here.\n",
            "This is more text being appended to test.txt\n",
            "And another line here.\n",
            "\n"
          ]
        }
      ]
    },
    {
      "cell_type": "markdown",
      "source": [
        "Iterating through a File"
      ],
      "metadata": {
        "id": "N6cbbjAwDL32"
      }
    },
    {
      "cell_type": "code",
      "source": [
        "with open('test.txt','r') as txt:\n",
        "    for line in txt:\n",
        "        print(line, end='')"
      ],
      "metadata": {
        "id": "VkPoWb3KC85f",
        "outputId": "9ebf1a32-a341-4fb8-de24-37f27c8d0cea",
        "colab": {
          "base_uri": "https://localhost:8080/"
        }
      },
      "execution_count": 80,
      "outputs": [
        {
          "output_type": "stream",
          "name": "stdout",
          "text": [
            "MY BRAND NEW TEXT\n",
            "I LOVE YOU \n",
            "WILL YOU MARRY ME\n",
            "\n",
            "This line is being appended to test.txt\n",
            "And another line here.\n",
            "This is more text being appended to test.txt\n",
            "And another line here.\n"
          ]
        }
      ]
    },
    {
      "cell_type": "code",
      "source": [],
      "metadata": {
        "id": "Np0cp8YfDKnG"
      },
      "execution_count": null,
      "outputs": []
    }
  ]
}