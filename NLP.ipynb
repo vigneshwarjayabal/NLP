{
  "nbformat": 4,
  "nbformat_minor": 0,
  "metadata": {
    "colab": {
      "provenance": [],
      "include_colab_link": true
    },
    "kernelspec": {
      "name": "python3",
      "display_name": "Python 3"
    },
    "language_info": {
      "name": "python"
    }
  },
  "cells": [
    {
      "cell_type": "markdown",
      "metadata": {
        "id": "view-in-github",
        "colab_type": "text"
      },
      "source": [
        "<a href=\"https://colab.research.google.com/github/vigneshwarjayabal/NLP/blob/main/NLP.ipynb\" target=\"_parent\"><img src=\"https://colab.research.google.com/assets/colab-badge.svg\" alt=\"Open In Colab\"/></a>"
      ]
    },
    {
      "cell_type": "markdown",
      "source": [
        "#**Phase 1: Python Text Basics**"
      ],
      "metadata": {
        "id": "krNJ6JWzKpPO"
      }
    },
    {
      "cell_type": "markdown",
      "source": [
        "Some basic print formating (f-string literal) with aligment options."
      ],
      "metadata": {
        "id": "nwFnlh5vK5U8"
      }
    },
    {
      "cell_type": "code",
      "execution_count": null,
      "metadata": {
        "colab": {
          "base_uri": "https://localhost:8080/"
        },
        "id": "spdOn8ALKdE-",
        "outputId": "4c93a2db-2303-4d1f-9de8-8ffb7f811a2f"
      },
      "outputs": [
        {
          "output_type": "stream",
          "name": "stdout",
          "text": [
            "my name is vignesh\n"
          ]
        }
      ],
      "source": [
        "person = \"vignesh\"  #old way to format the string\n",
        "\n",
        "print(\"my name is {}\".format(person))"
      ]
    },
    {
      "cell_type": "code",
      "source": [
        "#f-string\n",
        "print(f\"my name is {person}\")"
      ],
      "metadata": {
        "colab": {
          "base_uri": "https://localhost:8080/"
        },
        "id": "VmFrvntwLXzJ",
        "outputId": "e980d121-10d2-4cac-ad7d-8c3fd99f22da"
      },
      "execution_count": null,
      "outputs": [
        {
          "output_type": "stream",
          "name": "stdout",
          "text": [
            "my name is vignesh\n"
          ]
        }
      ]
    },
    {
      "cell_type": "code",
      "source": [
        "d = {'a':123,'b':456}\n",
        "\n",
        "print(f\"my number is {d['a']}\")"
      ],
      "metadata": {
        "colab": {
          "base_uri": "https://localhost:8080/"
        },
        "id": "7MI7vsEjLn6P",
        "outputId": "147644f9-3eb1-49a0-956b-59315f1fad49"
      },
      "execution_count": null,
      "outputs": [
        {
          "output_type": "stream",
          "name": "stdout",
          "text": [
            "my number is 123\n"
          ]
        }
      ]
    },
    {
      "cell_type": "code",
      "source": [
        "mylist = [0,1,2]\n",
        "\n",
        "print(f\"my number is {mylist[0]}\")"
      ],
      "metadata": {
        "colab": {
          "base_uri": "https://localhost:8080/"
        },
        "id": "uAf6eXKoME7Y",
        "outputId": "2603f673-a5b9-4c74-fa74-0f62a9f0b1d0"
      },
      "execution_count": null,
      "outputs": [
        {
          "output_type": "stream",
          "name": "stdout",
          "text": [
            "my number is 0\n"
          ]
        }
      ]
    },
    {
      "cell_type": "code",
      "source": [
        "library = [('Author', 'Topic', 'Pages'), ('Twain', 'Rafting in water alone', 601), ('Feynman', 'Physics', 95), ('Hamilton', 'Mythology', 144)]"
      ],
      "metadata": {
        "id": "IK69rRKuMSWU"
      },
      "execution_count": null,
      "outputs": []
    },
    {
      "cell_type": "code",
      "source": [
        "library"
      ],
      "metadata": {
        "colab": {
          "base_uri": "https://localhost:8080/"
        },
        "id": "Enn7TtqMM6Qg",
        "outputId": "745a8aba-23e8-4f0b-a766-f686ce2d1a02"
      },
      "execution_count": null,
      "outputs": [
        {
          "output_type": "execute_result",
          "data": {
            "text/plain": [
              "[('Author', 'Topic', 'Pages'),\n",
              " ('Twain', 'Rafting in water alone', 601),\n",
              " ('Feynman', 'Physics', 95),\n",
              " ('Hamilton', 'Mythology', 144)]"
            ]
          },
          "metadata": {},
          "execution_count": 11
        }
      ]
    },
    {
      "cell_type": "markdown",
      "source": [
        "**Minimum Widths, Alignment and Padding**\n",
        "\n",
        "You can pass arguments inside a nested set of curly braces to set a minimum width for the field, the alignment and even padding characters."
      ],
      "metadata": {
        "id": "ZDPqQ75dNuUc"
      }
    },
    {
      "cell_type": "code",
      "source": [
        "for author,topic,pages in library:\n",
        "  print(f\"{author} {topic} {pages}\")"
      ],
      "metadata": {
        "colab": {
          "base_uri": "https://localhost:8080/"
        },
        "id": "g1TWPCy6M75H",
        "outputId": "63f08bec-06b0-4c9d-fa7d-9efca19346e4"
      },
      "execution_count": null,
      "outputs": [
        {
          "output_type": "stream",
          "name": "stdout",
          "text": [
            "Author Topic Pages\n",
            "Twain Rafting in water alone 601\n",
            "Feynman Physics 95\n",
            "Hamilton Mythology 144\n"
          ]
        }
      ]
    },
    {
      "cell_type": "markdown",
      "source": [
        "inside the placeholder put : open curly bracket give number space you want."
      ],
      "metadata": {
        "id": "RuH8HjMdPJAp"
      }
    },
    {
      "cell_type": "code",
      "source": [
        "for author,topic,pages in library:\n",
        "  print(f\"{author:{10}} {topic:{30}} {pages:{10}}\")"
      ],
      "metadata": {
        "colab": {
          "base_uri": "https://localhost:8080/"
        },
        "id": "9UZHu0FuODkB",
        "outputId": "91ef242a-1859-41f1-fe42-e112cb1d2e4d"
      },
      "execution_count": null,
      "outputs": [
        {
          "output_type": "stream",
          "name": "stdout",
          "text": [
            "Author     Topic                          Pages     \n",
            "Twain      Rafting in water alone                601\n",
            "Feynman    Physics                                95\n",
            "Hamilton   Mythology                             144\n"
          ]
        }
      ]
    },
    {
      "cell_type": "markdown",
      "source": [
        "To set the alignment, use the character `<` for left-align,  `^` for center, `>` for right."
      ],
      "metadata": {
        "id": "bLDJtPAPPFiN"
      }
    },
    {
      "cell_type": "code",
      "source": [
        "for author,topic,pages in library:\n",
        "  print(f\"{author:{10}} {topic:{30}} {pages:>{10}}\")"
      ],
      "metadata": {
        "colab": {
          "base_uri": "https://localhost:8080/"
        },
        "id": "Dqy93ERkOWDU",
        "outputId": "858f3d63-0ff9-4938-e93c-54ad14d38dbd"
      },
      "execution_count": null,
      "outputs": [
        {
          "output_type": "stream",
          "name": "stdout",
          "text": [
            "Author     Topic                               Pages\n",
            "Twain      Rafting in water alone                601\n",
            "Feynman    Physics                                95\n",
            "Hamilton   Mythology                             144\n"
          ]
        }
      ]
    },
    {
      "cell_type": "markdown",
      "source": [
        "To set padding, precede the alignment character with the padding character (`-` and `.` are common choices)."
      ],
      "metadata": {
        "id": "j7HS3MVcPwr-"
      }
    },
    {
      "cell_type": "code",
      "source": [
        "for author,topic,pages in library:\n",
        "  print(f\"{author:{10}} {topic:{30}} {pages:->{10}}\")"
      ],
      "metadata": {
        "colab": {
          "base_uri": "https://localhost:8080/"
        },
        "id": "hUyX1S9MOnjB",
        "outputId": "e23db235-f849-42e2-d687-f3f45c986191"
      },
      "execution_count": null,
      "outputs": [
        {
          "output_type": "stream",
          "name": "stdout",
          "text": [
            "Author     Topic                          -----Pages\n",
            "Twain      Rafting in water alone         -------601\n",
            "Feynman    Physics                        --------95\n",
            "Hamilton   Mythology                      -------144\n"
          ]
        }
      ]
    },
    {
      "cell_type": "code",
      "source": [
        "for author,topic,pages in library:\n",
        "  print(f\"{author:{10}} {topic:{30}} {pages:.>{10}}\")"
      ],
      "metadata": {
        "colab": {
          "base_uri": "https://localhost:8080/"
        },
        "id": "UXQu8RJ-PkPq",
        "outputId": "43376261-fd09-4546-c21c-aff04e986892"
      },
      "execution_count": null,
      "outputs": [
        {
          "output_type": "stream",
          "name": "stdout",
          "text": [
            "Author     Topic                          .....Pages\n",
            "Twain      Rafting in water alone         .......601\n",
            "Feynman    Physics                        ........95\n",
            "Hamilton   Mythology                      .......144\n"
          ]
        }
      ]
    },
    {
      "cell_type": "markdown",
      "source": [
        "Date Formatting"
      ],
      "metadata": {
        "id": "vbwFLjMcQNv8"
      }
    },
    {
      "cell_type": "code",
      "source": [
        "from datetime import datetime\n",
        "\n",
        "today = datetime(year=2025, month=1, day=27)\n",
        "\n",
        "print(f'{today}')"
      ],
      "metadata": {
        "colab": {
          "base_uri": "https://localhost:8080/"
        },
        "id": "e3k-SKWVP3Pz",
        "outputId": "fe7136c9-5ba5-41aa-d735-d3f14d4ced5f"
      },
      "execution_count": null,
      "outputs": [
        {
          "output_type": "stream",
          "name": "stdout",
          "text": [
            "2025-01-27 00:00:00\n"
          ]
        }
      ]
    },
    {
      "cell_type": "code",
      "source": [
        "from datetime import datetime\n",
        "\n",
        "today = datetime(year=2025, month=1, day=27)\n",
        "\n",
        "print(f'{today:%B %d, %Y}')"
      ],
      "metadata": {
        "colab": {
          "base_uri": "https://localhost:8080/"
        },
        "id": "okoG-lfwQWiu",
        "outputId": "1a9039ce-fe9d-4dd5-b9b9-5617bf068fcf"
      },
      "execution_count": null,
      "outputs": [
        {
          "output_type": "stream",
          "name": "stdout",
          "text": [
            "January 27, 2025\n"
          ]
        }
      ]
    },
    {
      "cell_type": "code",
      "source": [
        "today"
      ],
      "metadata": {
        "colab": {
          "base_uri": "https://localhost:8080/"
        },
        "id": "iuzLNmVbQkXh",
        "outputId": "8000258a-eb20-4a81-b2cb-5f6b19e95986"
      },
      "execution_count": null,
      "outputs": [
        {
          "output_type": "execute_result",
          "data": {
            "text/plain": [
              "datetime.datetime(2025, 1, 27, 0, 0)"
            ]
          },
          "metadata": {},
          "execution_count": 21
        }
      ]
    },
    {
      "cell_type": "markdown",
      "source": [
        "How to read and write to text files with python"
      ],
      "metadata": {
        "id": "DXX4BCr2Q76b"
      }
    },
    {
      "cell_type": "code",
      "source": [
        "%%writefile test.txt\n",
        "Hello, this is a quick test file.\n",
        "This is the second line of the file ."
      ],
      "metadata": {
        "colab": {
          "base_uri": "https://localhost:8080/"
        },
        "id": "FbjF9erfQrSm",
        "outputId": "5f224cfa-c1bc-4ae0-d7e1-a4e60c4a67d6"
      },
      "execution_count": null,
      "outputs": [
        {
          "output_type": "stream",
          "name": "stdout",
          "text": [
            "Writing test.txt\n"
          ]
        }
      ]
    },
    {
      "cell_type": "code",
      "source": [
        "myfile = open('test.txt')"
      ],
      "metadata": {
        "id": "i6kSJf7lRqPe"
      },
      "execution_count": null,
      "outputs": []
    },
    {
      "cell_type": "code",
      "source": [
        "myfile"
      ],
      "metadata": {
        "id": "L1UUNTyMy8CT",
        "outputId": "c0ca5356-e33e-4d07-afb7-5966eaaa31fd",
        "colab": {
          "base_uri": "https://localhost:8080/"
        }
      },
      "execution_count": null,
      "outputs": [
        {
          "output_type": "execute_result",
          "data": {
            "text/plain": [
              "<_io.TextIOWrapper name='test.txt' mode='r' encoding='UTF-8'>"
            ]
          },
          "metadata": {},
          "execution_count": 3
        }
      ]
    },
    {
      "cell_type": "markdown",
      "source": [
        "**Alternatively, to grab files from any location on your computer, simply pass in the entire file path.**\n",
        "\n",
        "For Windows you need to use double \\ so python doesn't treat the second \\ as an escape character, a file path is in the form:\n",
        "\n",
        "    myfile = open(\"C:\\\\Users\\\\YourUserName\\\\Home\\\\Folder\\\\myfile.txt\")\n",
        "\n",
        "For MacOS and Linux you use slashes in the opposite direction:\n",
        "\n",
        "    myfile = open(\"/Users/YourUserName/Folder/myfile.txt\")"
      ],
      "metadata": {
        "id": "uyOuG5rR0VDG"
      }
    },
    {
      "cell_type": "code",
      "source": [
        "myfile.read()"
      ],
      "metadata": {
        "id": "sDNlmvx8y-Kp",
        "outputId": "c8bfe94c-9740-4b0d-b974-3dd1b8701668",
        "colab": {
          "base_uri": "https://localhost:8080/",
          "height": 36
        }
      },
      "execution_count": null,
      "outputs": [
        {
          "output_type": "execute_result",
          "data": {
            "text/plain": [
              "'Hello, this is a quick test file.\\nThis is the second line of the file .\\n'"
            ],
            "application/vnd.google.colaboratory.intrinsic+json": {
              "type": "string"
            }
          },
          "metadata": {},
          "execution_count": 4
        }
      ]
    },
    {
      "cell_type": "code",
      "source": [
        "myfile.read()"
      ],
      "metadata": {
        "id": "mfgkiGNu07k1",
        "outputId": "ff1ab7ad-9c8a-448b-9ba6-b80e8695ca5f",
        "colab": {
          "base_uri": "https://localhost:8080/",
          "height": 36
        }
      },
      "execution_count": null,
      "outputs": [
        {
          "output_type": "execute_result",
          "data": {
            "text/plain": [
              "''"
            ],
            "application/vnd.google.colaboratory.intrinsic+json": {
              "type": "string"
            }
          },
          "metadata": {},
          "execution_count": 5
        }
      ]
    },
    {
      "cell_type": "markdown",
      "source": [
        "This happens because you can imagine the reading \"cursor\" is at the end of the file after having read it. So there is nothing left to read. We can reset the \"cursor\" like this:"
      ],
      "metadata": {
        "id": "mAAsWYwh1Xnk"
      }
    },
    {
      "cell_type": "code",
      "source": [
        "myfile.seek(0)"
      ],
      "metadata": {
        "id": "pDl_jfH31OmH",
        "outputId": "ab61105f-57ec-4217-c5fd-224c20764ad5",
        "colab": {
          "base_uri": "https://localhost:8080/"
        }
      },
      "execution_count": null,
      "outputs": [
        {
          "output_type": "execute_result",
          "data": {
            "text/plain": [
              "0"
            ]
          },
          "metadata": {},
          "execution_count": 6
        }
      ]
    },
    {
      "cell_type": "code",
      "source": [
        "myfile.read()"
      ],
      "metadata": {
        "id": "Re9lL7JM1iA8",
        "outputId": "17787572-a71b-48d3-cf62-4032c7133f3c",
        "colab": {
          "base_uri": "https://localhost:8080/",
          "height": 36
        }
      },
      "execution_count": null,
      "outputs": [
        {
          "output_type": "execute_result",
          "data": {
            "text/plain": [
              "'Hello, this is a quick test file.\\nThis is the second line of the file .\\n'"
            ],
            "application/vnd.google.colaboratory.intrinsic+json": {
              "type": "string"
            }
          },
          "metadata": {},
          "execution_count": 7
        }
      ]
    },
    {
      "cell_type": "code",
      "source": [
        "myfile.seek(0)"
      ],
      "metadata": {
        "id": "tvpCG9BB19eU",
        "outputId": "f15b41c0-301f-4032-8d90-48a593caf738",
        "colab": {
          "base_uri": "https://localhost:8080/"
        }
      },
      "execution_count": null,
      "outputs": [
        {
          "output_type": "execute_result",
          "data": {
            "text/plain": [
              "0"
            ]
          },
          "metadata": {},
          "execution_count": 10
        }
      ]
    },
    {
      "cell_type": "code",
      "source": [
        "content = myfile.read()"
      ],
      "metadata": {
        "id": "E7YvBT6o1kYk"
      },
      "execution_count": null,
      "outputs": []
    },
    {
      "cell_type": "code",
      "source": [
        "print(content)"
      ],
      "metadata": {
        "id": "XHiM0lNh12ZM",
        "outputId": "839c0ecf-1cba-46b3-92ee-d24cf2b43500",
        "colab": {
          "base_uri": "https://localhost:8080/"
        }
      },
      "execution_count": null,
      "outputs": [
        {
          "output_type": "stream",
          "name": "stdout",
          "text": [
            "Hello, this is a quick test file.\n",
            "This is the second line of the file .\n",
            "\n"
          ]
        }
      ]
    },
    {
      "cell_type": "code",
      "source": [
        "content"
      ],
      "metadata": {
        "id": "s8fqvv9r149X",
        "outputId": "d0950c1c-667d-4ee5-8047-b506a45121e1",
        "colab": {
          "base_uri": "https://localhost:8080/",
          "height": 36
        }
      },
      "execution_count": null,
      "outputs": [
        {
          "output_type": "execute_result",
          "data": {
            "text/plain": [
              "'Hello, this is a quick test file.\\nThis is the second line of the file .\\n'"
            ],
            "application/vnd.google.colaboratory.intrinsic+json": {
              "type": "string"
            }
          },
          "metadata": {},
          "execution_count": 13
        }
      ]
    },
    {
      "cell_type": "code",
      "source": [
        "myfile.seek(0)"
      ],
      "metadata": {
        "id": "508akrej2CEr",
        "outputId": "ac2b7fd6-930e-4401-da7e-a40f0d5853b0",
        "colab": {
          "base_uri": "https://localhost:8080/"
        }
      },
      "execution_count": null,
      "outputs": [
        {
          "output_type": "execute_result",
          "data": {
            "text/plain": [
              "0"
            ]
          },
          "metadata": {},
          "execution_count": 14
        }
      ]
    },
    {
      "cell_type": "markdown",
      "source": [
        "**.readlines()**\n",
        "You can read a file line by line using the readlines method. Use caution with large files, since everything will be held in memory. We will learn how to iterate over large files later in the course."
      ],
      "metadata": {
        "id": "nGVFhk_a2P38"
      }
    },
    {
      "cell_type": "code",
      "source": [
        "content = myfile.readlines()"
      ],
      "metadata": {
        "id": "S_sVgV6k2Ew7"
      },
      "execution_count": null,
      "outputs": []
    },
    {
      "cell_type": "code",
      "source": [
        "for line in content:\n",
        "  print(line.split()[0])"
      ],
      "metadata": {
        "id": "njIdMy9X509B",
        "outputId": "f2bbdaa8-7bbb-481d-f265-b9eb26496065",
        "colab": {
          "base_uri": "https://localhost:8080/"
        }
      },
      "execution_count": null,
      "outputs": [
        {
          "output_type": "stream",
          "name": "stdout",
          "text": [
            "Hello,\n",
            "This\n"
          ]
        }
      ]
    },
    {
      "cell_type": "code",
      "source": [
        "content"
      ],
      "metadata": {
        "id": "Nkv1KIyB2UeA",
        "outputId": "c8657ba6-d5b6-49c9-a503-2a937ae20b05",
        "colab": {
          "base_uri": "https://localhost:8080/"
        }
      },
      "execution_count": null,
      "outputs": [
        {
          "output_type": "execute_result",
          "data": {
            "text/plain": [
              "['Hello, this is a quick test file.\\n',\n",
              " 'This is the second line of the file .\\n']"
            ]
          },
          "metadata": {},
          "execution_count": 16
        }
      ]
    },
    {
      "cell_type": "markdown",
      "source": [
        "When you have finished using a file, it is always good practice to close it."
      ],
      "metadata": {
        "id": "yGJjglgP2kCw"
      }
    },
    {
      "cell_type": "code",
      "source": [
        "myfile.close()"
      ],
      "metadata": {
        "id": "UmPFljX52VlW"
      },
      "execution_count": null,
      "outputs": []
    },
    {
      "cell_type": "markdown",
      "source": [
        "**Writing to a File**\n",
        "\n",
        "By default, the `open()` function will only allow us to read the file. We need to pass the argument `'w'` to write over the file. For example:"
      ],
      "metadata": {
        "id": "mTOFrNG_6WZI"
      }
    },
    {
      "cell_type": "code",
      "source": [
        "myfile = open('test.txt','w+')"
      ],
      "metadata": {
        "id": "nL8B0f-22mLz"
      },
      "execution_count": null,
      "outputs": []
    },
    {
      "cell_type": "code",
      "source": [
        "myfile.read()"
      ],
      "metadata": {
        "id": "jKPj0dHG7IcK",
        "outputId": "1c35e136-ad41-4732-8eef-5e147eb696c2",
        "colab": {
          "base_uri": "https://localhost:8080/",
          "height": 36
        }
      },
      "execution_count": null,
      "outputs": [
        {
          "output_type": "execute_result",
          "data": {
            "text/plain": [
              "''"
            ],
            "application/vnd.google.colaboratory.intrinsic+json": {
              "type": "string"
            }
          },
          "metadata": {},
          "execution_count": 35
        }
      ]
    },
    {
      "cell_type": "markdown",
      "source": [
        "<div class=\"alert alert-danger\" style=\"margin: 20px\">**Use caution!**<br>\n",
        "Opening a file with 'w' or 'w+' *truncates the original*, meaning that anything that was in the original file **is deleted**!</div>"
      ],
      "metadata": {
        "id": "9oHHyfRy6nKl"
      }
    },
    {
      "cell_type": "code",
      "source": [
        "myfile.write('MY BRAND NEW TEXT\\n')"
      ],
      "metadata": {
        "id": "z-4T1WQD6g39",
        "outputId": "c51d215e-84d9-4753-fe5c-74cdc18f016e",
        "colab": {
          "base_uri": "https://localhost:8080/"
        }
      },
      "execution_count": null,
      "outputs": [
        {
          "output_type": "execute_result",
          "data": {
            "text/plain": [
              "18"
            ]
          },
          "metadata": {},
          "execution_count": 36
        }
      ]
    },
    {
      "cell_type": "code",
      "source": [
        "myfile.write('I LOVE YOU \\n')"
      ],
      "metadata": {
        "id": "Dfhct8mU8QDz",
        "outputId": "757709af-c1f9-47e6-c8e4-7b0e6230850e",
        "colab": {
          "base_uri": "https://localhost:8080/"
        }
      },
      "execution_count": null,
      "outputs": [
        {
          "output_type": "execute_result",
          "data": {
            "text/plain": [
              "12"
            ]
          },
          "metadata": {},
          "execution_count": 39
        }
      ]
    },
    {
      "cell_type": "code",
      "source": [
        "myfile.write('WILL YOU MARRY ME\\n')"
      ],
      "metadata": {
        "id": "3V8iOtYo8Yyc",
        "outputId": "17a5497c-67e2-457e-bf81-1b511ee17a17",
        "colab": {
          "base_uri": "https://localhost:8080/"
        }
      },
      "execution_count": null,
      "outputs": [
        {
          "output_type": "execute_result",
          "data": {
            "text/plain": [
              "18"
            ]
          },
          "metadata": {},
          "execution_count": 40
        }
      ]
    },
    {
      "cell_type": "code",
      "source": [
        "myfile.seek(0)"
      ],
      "metadata": {
        "id": "hZUQmrcF7Z83",
        "outputId": "2bce688e-2981-46f7-933f-16205ae06232",
        "colab": {
          "base_uri": "https://localhost:8080/"
        }
      },
      "execution_count": null,
      "outputs": [
        {
          "output_type": "execute_result",
          "data": {
            "text/plain": [
              "0"
            ]
          },
          "metadata": {},
          "execution_count": 41
        }
      ]
    },
    {
      "cell_type": "code",
      "source": [
        "myfile.read()"
      ],
      "metadata": {
        "id": "zCLHvhb27dPw",
        "outputId": "24878e92-447c-433c-c571-af5232481204",
        "colab": {
          "base_uri": "https://localhost:8080/",
          "height": 36
        }
      },
      "execution_count": null,
      "outputs": [
        {
          "output_type": "execute_result",
          "data": {
            "text/plain": [
              "'MY BRAND NEW TEXT\\nI LOVE YOU \\nWILL YOU MARRY ME\\n'"
            ],
            "application/vnd.google.colaboratory.intrinsic+json": {
              "type": "string"
            }
          },
          "metadata": {},
          "execution_count": 42
        }
      ]
    },
    {
      "cell_type": "code",
      "source": [
        "myfile.seek(0)"
      ],
      "metadata": {
        "id": "QiQPt4JP7gY2",
        "outputId": "42402f43-e77b-4d62-b2b8-8b5894c89961",
        "colab": {
          "base_uri": "https://localhost:8080/"
        }
      },
      "execution_count": null,
      "outputs": [
        {
          "output_type": "execute_result",
          "data": {
            "text/plain": [
              "0"
            ]
          },
          "metadata": {},
          "execution_count": 43
        }
      ]
    },
    {
      "cell_type": "code",
      "source": [
        "lines = myfile.readlines()"
      ],
      "metadata": {
        "id": "Hv5bdOCr8kDZ"
      },
      "execution_count": null,
      "outputs": []
    },
    {
      "cell_type": "code",
      "source": [
        "lines"
      ],
      "metadata": {
        "id": "sJNoXFyn8sLM",
        "outputId": "2b06f21a-d6a5-4aa7-8b0f-486238d89800",
        "colab": {
          "base_uri": "https://localhost:8080/"
        }
      },
      "execution_count": null,
      "outputs": [
        {
          "output_type": "execute_result",
          "data": {
            "text/plain": [
              "['MY BRAND NEW TEXT\\n', 'I LOVE YOU \\n', 'WILL YOU MARRY ME\\n']"
            ]
          },
          "metadata": {},
          "execution_count": 45
        }
      ]
    },
    {
      "cell_type": "code",
      "source": [
        "print(lines)"
      ],
      "metadata": {
        "id": "DCmVRKXg8tT-",
        "outputId": "5a64e971-8224-439e-9c96-8763e763005e",
        "colab": {
          "base_uri": "https://localhost:8080/"
        }
      },
      "execution_count": null,
      "outputs": [
        {
          "output_type": "stream",
          "name": "stdout",
          "text": [
            "['MY BRAND NEW TEXT\\n', 'I LOVE YOU \\n', 'WILL YOU MARRY ME\\n']\n"
          ]
        }
      ]
    },
    {
      "cell_type": "code",
      "source": [
        "myfile.close()"
      ],
      "metadata": {
        "id": "H4cfOhmz9UEo"
      },
      "execution_count": null,
      "outputs": []
    },
    {
      "cell_type": "markdown",
      "source": [
        "**Appending to a File**\n",
        "Passing the argument `'a'` opens the file and puts the pointer at the end, so anything written is appended. Like `'w+'`, `'a+'` lets us read and write to a file. If the file does not exist, one will be created."
      ],
      "metadata": {
        "id": "mFZ1iAW-9SGl"
      }
    },
    {
      "cell_type": "code",
      "source": [
        "my_file = open('test.txt','a+')\n",
        "my_file.write('\\nThis line is being appended to test.txt')\n",
        "my_file.write('\\nAnd another line here.')"
      ],
      "metadata": {
        "id": "deDt2mY48xjP",
        "outputId": "00ebf571-4f3a-460c-a069-cef7a97ad507",
        "colab": {
          "base_uri": "https://localhost:8080/"
        }
      },
      "execution_count": null,
      "outputs": [
        {
          "output_type": "execute_result",
          "data": {
            "text/plain": [
              "23"
            ]
          },
          "metadata": {},
          "execution_count": 51
        }
      ]
    },
    {
      "cell_type": "code",
      "source": [
        "my_file.seek(0)\n",
        "print(my_file.read())"
      ],
      "metadata": {
        "id": "MwczSG9m9fL7",
        "outputId": "72edbc11-24b2-4bd2-b741-c08a838bd511",
        "colab": {
          "base_uri": "https://localhost:8080/"
        }
      },
      "execution_count": null,
      "outputs": [
        {
          "output_type": "stream",
          "name": "stdout",
          "text": [
            "MY BRAND NEW TEXT\n",
            "I LOVE YOU \n",
            "WILL YOU MARRY ME\n",
            "\n",
            "This line is being appended to test.txt\n",
            "And another line here.\n"
          ]
        }
      ]
    },
    {
      "cell_type": "code",
      "source": [
        "myfile1 = open('wow.txt','a+')"
      ],
      "metadata": {
        "id": "pIel22kh9jWh"
      },
      "execution_count": null,
      "outputs": []
    },
    {
      "cell_type": "code",
      "source": [
        "myfile1.write('Dhoni is the best caption in the world')"
      ],
      "metadata": {
        "id": "KsZxmBmd-fO-",
        "outputId": "78271b27-5c03-4776-c934-c9e32ed18959",
        "colab": {
          "base_uri": "https://localhost:8080/"
        }
      },
      "execution_count": null,
      "outputs": [
        {
          "output_type": "execute_result",
          "data": {
            "text/plain": [
              "38"
            ]
          },
          "metadata": {},
          "execution_count": 61
        }
      ]
    },
    {
      "cell_type": "code",
      "source": [
        "myfile1.seek(0)"
      ],
      "metadata": {
        "id": "xVD5SLQL_Nb0",
        "outputId": "9d774441-7487-4459-cde3-4c87e16ff33f",
        "colab": {
          "base_uri": "https://localhost:8080/"
        }
      },
      "execution_count": null,
      "outputs": [
        {
          "output_type": "execute_result",
          "data": {
            "text/plain": [
              "0"
            ]
          },
          "metadata": {},
          "execution_count": 64
        }
      ]
    },
    {
      "cell_type": "code",
      "source": [
        "myfile1.read()"
      ],
      "metadata": {
        "id": "vNRMaX1s_FAg",
        "outputId": "f9e83183-b4f3-42aa-fb1b-77b4099f1670",
        "colab": {
          "base_uri": "https://localhost:8080/",
          "height": 36
        }
      },
      "execution_count": null,
      "outputs": [
        {
          "output_type": "execute_result",
          "data": {
            "text/plain": [
              "'Dhoni is the best caption in the worldDhoni is the best caption in the world'"
            ],
            "application/vnd.google.colaboratory.intrinsic+json": {
              "type": "string"
            }
          },
          "metadata": {},
          "execution_count": 65
        }
      ]
    },
    {
      "cell_type": "code",
      "source": [
        "myfile.close()"
      ],
      "metadata": {
        "id": "sxzY1AjE-mis"
      },
      "execution_count": null,
      "outputs": []
    },
    {
      "cell_type": "code",
      "source": [
        "file1 = open('wow.txt')"
      ],
      "metadata": {
        "id": "0ACujwmQ-qqe"
      },
      "execution_count": null,
      "outputs": []
    },
    {
      "cell_type": "code",
      "source": [
        "file1.read()"
      ],
      "metadata": {
        "id": "1nvpSIj7-xWu",
        "outputId": "cf9ac40e-5660-4594-b321-a051b3b651d5",
        "colab": {
          "base_uri": "https://localhost:8080/",
          "height": 36
        }
      },
      "execution_count": null,
      "outputs": [
        {
          "output_type": "execute_result",
          "data": {
            "text/plain": [
              "'Dhoni is the best caption in the worldDhoni is the best caption in the world'"
            ],
            "application/vnd.google.colaboratory.intrinsic+json": {
              "type": "string"
            }
          },
          "metadata": {},
          "execution_count": 68
        }
      ]
    },
    {
      "cell_type": "code",
      "source": [
        "file1.write('i try to write in read mode')"
      ],
      "metadata": {
        "id": "bVsF5w9B-zGi",
        "outputId": "6d5b5af9-f665-49cc-a035-f7281f6232c5",
        "colab": {
          "base_uri": "https://localhost:8080/",
          "height": 141
        }
      },
      "execution_count": null,
      "outputs": [
        {
          "output_type": "error",
          "ename": "UnsupportedOperation",
          "evalue": "not writable",
          "traceback": [
            "\u001b[0;31m---------------------------------------------------------------------------\u001b[0m",
            "\u001b[0;31mUnsupportedOperation\u001b[0m                      Traceback (most recent call last)",
            "\u001b[0;32m<ipython-input-69-98b31fa392ed>\u001b[0m in \u001b[0;36m<cell line: 1>\u001b[0;34m()\u001b[0m\n\u001b[0;32m----> 1\u001b[0;31m \u001b[0mfile1\u001b[0m\u001b[0;34m.\u001b[0m\u001b[0mwrite\u001b[0m\u001b[0;34m(\u001b[0m\u001b[0;34m'i try to write in read mode'\u001b[0m\u001b[0;34m)\u001b[0m\u001b[0;34m\u001b[0m\u001b[0;34m\u001b[0m\u001b[0m\n\u001b[0m",
            "\u001b[0;31mUnsupportedOperation\u001b[0m: not writable"
          ]
        }
      ]
    },
    {
      "cell_type": "code",
      "source": [
        "file1.close()"
      ],
      "metadata": {
        "id": "ct3I-5h-AQ_i"
      },
      "execution_count": null,
      "outputs": []
    },
    {
      "cell_type": "code",
      "source": [
        "file1 = open('wow.txt',mode='a+')"
      ],
      "metadata": {
        "id": "3hok4rkUBXGl"
      },
      "execution_count": null,
      "outputs": []
    },
    {
      "cell_type": "code",
      "source": [
        "file1.write('\\n i like dhoni .')"
      ],
      "metadata": {
        "id": "t0c9TBRLBoiM",
        "outputId": "2cc6731d-e394-4a85-bbe7-1ba4f2501620",
        "colab": {
          "base_uri": "https://localhost:8080/"
        }
      },
      "execution_count": null,
      "outputs": [
        {
          "output_type": "execute_result",
          "data": {
            "text/plain": [
              "16"
            ]
          },
          "metadata": {},
          "execution_count": 72
        }
      ]
    },
    {
      "cell_type": "code",
      "source": [
        "file1.seek(0)"
      ],
      "metadata": {
        "id": "bwZZqAvXBwol",
        "outputId": "d99a823f-2365-4c1c-b748-821513045879",
        "colab": {
          "base_uri": "https://localhost:8080/"
        }
      },
      "execution_count": null,
      "outputs": [
        {
          "output_type": "execute_result",
          "data": {
            "text/plain": [
              "0"
            ]
          },
          "metadata": {},
          "execution_count": 73
        }
      ]
    },
    {
      "cell_type": "code",
      "source": [
        "file1.read()"
      ],
      "metadata": {
        "id": "odeH9L8VB0zH",
        "outputId": "e377f9bf-ca17-492e-ce6c-42d44a47b991",
        "colab": {
          "base_uri": "https://localhost:8080/",
          "height": 36
        }
      },
      "execution_count": null,
      "outputs": [
        {
          "output_type": "execute_result",
          "data": {
            "text/plain": [
              "'Dhoni is the best caption in the worldDhoni is the best caption in the world\\n i like dhoni .'"
            ],
            "application/vnd.google.colaboratory.intrinsic+json": {
              "type": "string"
            }
          },
          "metadata": {},
          "execution_count": 74
        }
      ]
    },
    {
      "cell_type": "code",
      "source": [
        "file1.close()"
      ],
      "metadata": {
        "id": "I6NlHD4TB24k"
      },
      "execution_count": null,
      "outputs": []
    },
    {
      "cell_type": "markdown",
      "source": [
        "Use this to automatically close the file after using it ."
      ],
      "metadata": {
        "id": "nMeI2XD1CfAO"
      }
    },
    {
      "cell_type": "code",
      "source": [
        "with open('wow.txt','r') as file2:\n",
        "  myfile2 = file2.readlines()\n",
        "  print(myfile2)"
      ],
      "metadata": {
        "id": "pclMAvvBCFus",
        "outputId": "4e0c24fb-6e12-4d89-b55c-9d222adebb65",
        "colab": {
          "base_uri": "https://localhost:8080/"
        }
      },
      "execution_count": null,
      "outputs": [
        {
          "output_type": "stream",
          "name": "stdout",
          "text": [
            "['Dhoni is the best caption in the worldDhoni is the best caption in the world\\n', ' i like dhoni .']\n"
          ]
        }
      ]
    },
    {
      "cell_type": "markdown",
      "source": [
        "**Appending with `%%writefile`**"
      ],
      "metadata": {
        "id": "oYDglr7VCrzj"
      }
    },
    {
      "cell_type": "code",
      "source": [
        "%%writefile -a test.txt\n",
        "\n",
        "This is more text being appended to test.txt\n",
        "And another line here."
      ],
      "metadata": {
        "id": "nEO7da9GCVKV",
        "outputId": "51ce08ea-81f6-4780-a0f1-e4bd134650dd",
        "colab": {
          "base_uri": "https://localhost:8080/"
        }
      },
      "execution_count": null,
      "outputs": [
        {
          "output_type": "stream",
          "name": "stdout",
          "text": [
            "Appending to test.txt\n"
          ]
        }
      ]
    },
    {
      "cell_type": "code",
      "source": [
        "with open('test.txt','r') as god:\n",
        "  god1 = god.read()\n",
        "  print(god1)"
      ],
      "metadata": {
        "id": "FlwO7yZlCvyl",
        "outputId": "72f32b1d-9606-451a-a3e6-680874d4e4d0",
        "colab": {
          "base_uri": "https://localhost:8080/"
        }
      },
      "execution_count": null,
      "outputs": [
        {
          "output_type": "stream",
          "name": "stdout",
          "text": [
            "MY BRAND NEW TEXT\n",
            "I LOVE YOU \n",
            "WILL YOU MARRY ME\n",
            "\n",
            "This line is being appended to test.txt\n",
            "And another line here.\n",
            "This is more text being appended to test.txt\n",
            "And another line here.\n",
            "\n"
          ]
        }
      ]
    },
    {
      "cell_type": "markdown",
      "source": [
        "Iterating through a File"
      ],
      "metadata": {
        "id": "N6cbbjAwDL32"
      }
    },
    {
      "cell_type": "code",
      "source": [
        "with open('test.txt','r') as txt:\n",
        "    for line in txt:\n",
        "        print(line, end='')"
      ],
      "metadata": {
        "id": "VkPoWb3KC85f",
        "outputId": "9ebf1a32-a341-4fb8-de24-37f27c8d0cea",
        "colab": {
          "base_uri": "https://localhost:8080/"
        }
      },
      "execution_count": null,
      "outputs": [
        {
          "output_type": "stream",
          "name": "stdout",
          "text": [
            "MY BRAND NEW TEXT\n",
            "I LOVE YOU \n",
            "WILL YOU MARRY ME\n",
            "\n",
            "This line is being appended to test.txt\n",
            "And another line here.\n",
            "This is more text being appended to test.txt\n",
            "And another line here.\n"
          ]
        }
      ]
    },
    {
      "cell_type": "markdown",
      "source": [
        "Working with PDF Files\n",
        "\n",
        "- Read a text data from a PDF file using PyPDF2 library\n",
        "\n",
        "- Not all PDFS have text that can be Extracted.\n",
        "\n",
        "- Some Pdfs are created through scanning, instead of being exported from a text editor.\n",
        "\n",
        "- this scanned pdfs are more like image files,making it much harder to extract the text."
      ],
      "metadata": {
        "id": "kzBVusoPPQXl"
      }
    },
    {
      "cell_type": "code",
      "source": [
        "pip install PyPDF2"
      ],
      "metadata": {
        "id": "Np0cp8YfDKnG",
        "outputId": "7eb10632-c43f-4f20-ab99-14e029304df5",
        "colab": {
          "base_uri": "https://localhost:8080/"
        }
      },
      "execution_count": 1,
      "outputs": [
        {
          "output_type": "stream",
          "name": "stdout",
          "text": [
            "Collecting PyPDF2\n",
            "  Downloading pypdf2-3.0.1-py3-none-any.whl.metadata (6.8 kB)\n",
            "Downloading pypdf2-3.0.1-py3-none-any.whl (232 kB)\n",
            "\u001b[2K   \u001b[90m━━━━━━━━━━━━━━━━━━━━━━━━━━━━━━━━━━━━━━━━\u001b[0m \u001b[32m232.6/232.6 kB\u001b[0m \u001b[31m4.4 MB/s\u001b[0m eta \u001b[36m0:00:00\u001b[0m\n",
            "\u001b[?25hInstalling collected packages: PyPDF2\n",
            "Successfully installed PyPDF2-3.0.1\n"
          ]
        }
      ]
    },
    {
      "cell_type": "code",
      "source": [
        "import PyPDF2"
      ],
      "metadata": {
        "id": "v8Cph24tRJ_w"
      },
      "execution_count": 2,
      "outputs": []
    },
    {
      "cell_type": "code",
      "source": [
        "us_doc = open('US_Declaration.pdf','rb')"
      ],
      "metadata": {
        "id": "qi0bdBK_Re3d"
      },
      "execution_count": 3,
      "outputs": []
    },
    {
      "cell_type": "code",
      "source": [
        "pdf_reader = PyPDF2.PdfReader(us_doc)"
      ],
      "metadata": {
        "id": "EYXDXw5uRyF8"
      },
      "execution_count": 5,
      "outputs": []
    },
    {
      "cell_type": "code",
      "source": [
        "len(pdf_reader.pages)"
      ],
      "metadata": {
        "id": "piwQrkJmR64Q",
        "outputId": "12c843a1-0c54-48dc-83ba-5ca616bbcbfe",
        "colab": {
          "base_uri": "https://localhost:8080/"
        }
      },
      "execution_count": 11,
      "outputs": [
        {
          "output_type": "execute_result",
          "data": {
            "text/plain": [
              "5"
            ]
          },
          "metadata": {},
          "execution_count": 11
        }
      ]
    },
    {
      "cell_type": "code",
      "source": [
        "page_one = pdf_reader.pages[0]"
      ],
      "metadata": {
        "id": "HmQG0Ls6SM4t"
      },
      "execution_count": 16,
      "outputs": []
    },
    {
      "cell_type": "code",
      "source": [
        "file1 = page_one.extract_text()"
      ],
      "metadata": {
        "id": "d97oWCrFS9N-"
      },
      "execution_count": 18,
      "outputs": []
    },
    {
      "cell_type": "code",
      "source": [
        "print(file1)"
      ],
      "metadata": {
        "id": "1R0GsEZmTLgT",
        "outputId": "f4a0e27b-36dd-4897-f325-e355c113b5a5",
        "colab": {
          "base_uri": "https://localhost:8080/"
        }
      },
      "execution_count": 19,
      "outputs": [
        {
          "output_type": "stream",
          "name": "stdout",
          "text": [
            "Declaration of Independence\n",
            "IN CONGRESS, July 4, 1776.  \n",
            "The unanimous Declaration of the thirteen united States of America,  \n",
            "When in the Course of human events, it becomes necessary for one people to dissolve thepolitical bands which have connected them with another, and to assume among the powers of theearth, the separate and equal station to which the Laws of Nature and of Nature's God entitlethem, a decent respect to the opinions of mankind requires that they should declare the causeswhich impel them to the separation. We hold these truths to be self-evident, that all men are created equal, that they are endowed bytheir Creator with certain unalienable Rights, that among these are Life, Liberty and the pursuit\n",
            "of Happiness.— \u0014That to secure these rights, Governments are instituted among Men, derivingtheir just powers from the consent of the governed,—  \u0014That whenever any Form of Government\n",
            "becomes destructive of these ends, it is the Right of the People to alter or to abolish it, and to\n",
            "institute new Government, laying its foundation on such principles and organizing its powers in\n",
            "such form, as to them shall seem most likely to effect their Safety and Happiness. Prudence,indeed, will dictate that Governments long established should not be changed for light andtransient causes; and accordingly all experience hath shewn, that mankind are more disposed to\n",
            "suffer, while evils are sufferable, than to right themselves by abolishing the forms to which theyare accustomed. But when a long train of abuses and usurpations, pursuing invariably the same\n",
            "Object evinces a design to reduce them under absolute Despotism, it is their right, it is their duty,\n",
            "to throw off such Government, and to provide new Guards for their future securit y.— \u0014Such has\n",
            "been the patient sufferance of these Colonies; and such is now the necessity which constrainsthem to alter their former Systems of Government. The history of the present King of GreatBritain is a history of repeated injuries and usurpations, all having in direct object the\n",
            "establishment of an absolute Tyranny over these States. To prove this, let Facts be submitted to a\n",
            "candid world. \n",
            "He has refused his Assent to Laws, the most wholesome and necessary for the\n",
            "public good.He has forbidden his Governors to pass Laws of immediate and pressingimportance, unless suspended in their operation till his Assent should be obtained;and when so suspended, he has utterly neglected to attend to them.He has refused to pass other Laws for the accommodation of large districts of\n",
            "people, unless those people would relinquish the right of Representation in theLegislature, a right inestimable to them and formidable to tyrants only. He has called together legislative bodies at places unusual, uncomfortable, and distantfrom the depository of their public Records, for the sole purpose of fatiguing them into\n",
            "compliance with his measures.\n"
          ]
        }
      ]
    },
    {
      "cell_type": "code",
      "source": [
        "us_doc.close()"
      ],
      "metadata": {
        "id": "FomGbwKdTepN"
      },
      "execution_count": 21,
      "outputs": []
    },
    {
      "cell_type": "markdown",
      "source": [
        "Adding to PDFs\n",
        "\n",
        "We can not write to PDFs using Python because of the differences between the single string type of Python, and the variety of fonts, placements, and other parameters that a PDF could have.\n",
        "\n",
        "What we *can* do is copy pages and append pages to the end."
      ],
      "metadata": {
        "id": "itsmwmo_T5Dp"
      }
    },
    {
      "cell_type": "code",
      "source": [
        "f = open('US_Declaration.pdf','rb')"
      ],
      "metadata": {
        "id": "HInIbLRUT4zv"
      },
      "execution_count": 22,
      "outputs": []
    },
    {
      "cell_type": "code",
      "source": [
        "pdf2 = PyPDF2.PdfReader(f)"
      ],
      "metadata": {
        "id": "T0dPdFbqTk_a"
      },
      "execution_count": 23,
      "outputs": []
    },
    {
      "cell_type": "code",
      "source": [
        "first_page = pdf2.pages[0]"
      ],
      "metadata": {
        "id": "MCIlVF-eU3rf"
      },
      "execution_count": 24,
      "outputs": []
    },
    {
      "cell_type": "code",
      "source": [
        "pdf3 = PyPDF2.PdfWriter()"
      ],
      "metadata": {
        "id": "ndLA1VrVVBFa"
      },
      "execution_count": 25,
      "outputs": []
    },
    {
      "cell_type": "code",
      "source": [
        "pdf3.add_page(first_page)"
      ],
      "metadata": {
        "id": "ZCCSL5TiV8NA",
        "outputId": "e3d222e2-e1ce-4dc8-94bb-316fcbcf5c63",
        "colab": {
          "base_uri": "https://localhost:8080/"
        }
      },
      "execution_count": 27,
      "outputs": [
        {
          "output_type": "execute_result",
          "data": {
            "text/plain": [
              "{'/Type': '/Page',\n",
              " '/Contents': {},\n",
              " '/MediaBox': [0, 0, 612, 792],\n",
              " '/Resources': {'/Font': {'/F9': {'/Type': '/Font',\n",
              "    '/Subtype': '/Type1',\n",
              "    '/Name': '/F9',\n",
              "    '/Encoding': '/WinAnsiEncoding',\n",
              "    '/FirstChar': 31,\n",
              "    '/LastChar': 255,\n",
              "    '/Widths': [778,\n",
              "     250,\n",
              "     333,\n",
              "     555,\n",
              "     500,\n",
              "     500,\n",
              "     1000,\n",
              "     833,\n",
              "     278,\n",
              "     333,\n",
              "     333,\n",
              "     500,\n",
              "     570,\n",
              "     250,\n",
              "     333,\n",
              "     250,\n",
              "     278,\n",
              "     500,\n",
              "     500,\n",
              "     500,\n",
              "     500,\n",
              "     500,\n",
              "     500,\n",
              "     500,\n",
              "     500,\n",
              "     500,\n",
              "     500,\n",
              "     333,\n",
              "     333,\n",
              "     570,\n",
              "     570,\n",
              "     570,\n",
              "     500,\n",
              "     930,\n",
              "     722,\n",
              "     667,\n",
              "     722,\n",
              "     722,\n",
              "     667,\n",
              "     611,\n",
              "     778,\n",
              "     778,\n",
              "     389,\n",
              "     500,\n",
              "     778,\n",
              "     667,\n",
              "     944,\n",
              "     722,\n",
              "     778,\n",
              "     611,\n",
              "     778,\n",
              "     722,\n",
              "     556,\n",
              "     667,\n",
              "     722,\n",
              "     722,\n",
              "     1000,\n",
              "     722,\n",
              "     722,\n",
              "     667,\n",
              "     333,\n",
              "     278,\n",
              "     333,\n",
              "     581,\n",
              "     500,\n",
              "     333,\n",
              "     500,\n",
              "     556,\n",
              "     444,\n",
              "     556,\n",
              "     444,\n",
              "     333,\n",
              "     500,\n",
              "     556,\n",
              "     278,\n",
              "     333,\n",
              "     556,\n",
              "     278,\n",
              "     833,\n",
              "     556,\n",
              "     500,\n",
              "     556,\n",
              "     556,\n",
              "     444,\n",
              "     389,\n",
              "     333,\n",
              "     556,\n",
              "     500,\n",
              "     722,\n",
              "     500,\n",
              "     500,\n",
              "     444,\n",
              "     394,\n",
              "     220,\n",
              "     394,\n",
              "     520,\n",
              "     778,\n",
              "     500,\n",
              "     778,\n",
              "     333,\n",
              "     500,\n",
              "     500,\n",
              "     1000,\n",
              "     500,\n",
              "     500,\n",
              "     333,\n",
              "     1000,\n",
              "     556,\n",
              "     333,\n",
              "     1000,\n",
              "     778,\n",
              "     778,\n",
              "     778,\n",
              "     778,\n",
              "     333,\n",
              "     333,\n",
              "     500,\n",
              "     500,\n",
              "     350,\n",
              "     500,\n",
              "     1000,\n",
              "     333,\n",
              "     1000,\n",
              "     389,\n",
              "     333,\n",
              "     722,\n",
              "     778,\n",
              "     778,\n",
              "     722,\n",
              "     250,\n",
              "     333,\n",
              "     500,\n",
              "     500,\n",
              "     500,\n",
              "     500,\n",
              "     220,\n",
              "     500,\n",
              "     333,\n",
              "     747,\n",
              "     300,\n",
              "     500,\n",
              "     570,\n",
              "     333,\n",
              "     747,\n",
              "     500,\n",
              "     400,\n",
              "     549,\n",
              "     300,\n",
              "     300,\n",
              "     333,\n",
              "     576,\n",
              "     540,\n",
              "     250,\n",
              "     333,\n",
              "     300,\n",
              "     330,\n",
              "     500,\n",
              "     750,\n",
              "     750,\n",
              "     750,\n",
              "     500,\n",
              "     722,\n",
              "     722,\n",
              "     722,\n",
              "     722,\n",
              "     722,\n",
              "     722,\n",
              "     1000,\n",
              "     722,\n",
              "     667,\n",
              "     667,\n",
              "     667,\n",
              "     667,\n",
              "     389,\n",
              "     389,\n",
              "     389,\n",
              "     389,\n",
              "     722,\n",
              "     722,\n",
              "     778,\n",
              "     778,\n",
              "     778,\n",
              "     778,\n",
              "     778,\n",
              "     570,\n",
              "     778,\n",
              "     722,\n",
              "     722,\n",
              "     722,\n",
              "     722,\n",
              "     722,\n",
              "     611,\n",
              "     556,\n",
              "     500,\n",
              "     500,\n",
              "     500,\n",
              "     500,\n",
              "     500,\n",
              "     500,\n",
              "     722,\n",
              "     444,\n",
              "     444,\n",
              "     444,\n",
              "     444,\n",
              "     444,\n",
              "     278,\n",
              "     278,\n",
              "     278,\n",
              "     278,\n",
              "     500,\n",
              "     556,\n",
              "     500,\n",
              "     500,\n",
              "     500,\n",
              "     500,\n",
              "     500,\n",
              "     549,\n",
              "     500,\n",
              "     556,\n",
              "     556,\n",
              "     556,\n",
              "     556,\n",
              "     500,\n",
              "     556,\n",
              "     500],\n",
              "    '/BaseFont': '/TimesNewRomanPS-BoldMT',\n",
              "    '/FontDescriptor': {'/Type': '/FontDescriptor',\n",
              "     '/FontName': '/TimesNewRomanPS-BoldMT',\n",
              "     '/Ascent': 677,\n",
              "     '/CapHeight': 500,\n",
              "     '/Descent': -216,\n",
              "     '/Flags': 34,\n",
              "     '/FontBBox': [-558, -307, 2034, 1026],\n",
              "     '/ItalicAngle': 0,\n",
              "     '/StemV': 0,\n",
              "     '/AvgWidth': 427,\n",
              "     '/Leading': 150,\n",
              "     '/MaxWidth': 2592,\n",
              "     '/XHeight': 250,\n",
              "     '/FontFile': {'/Filter': ['/ASCII85Decode'],\n",
              "      '/Length1': 4690,\n",
              "      '/Length2': 46374,\n",
              "      '/Length3': 532}}},\n",
              "   '/F6': {'/Type': '/Font',\n",
              "    '/Subtype': '/Type1',\n",
              "    '/Name': '/F6',\n",
              "    '/Encoding': '/WinAnsiEncoding',\n",
              "    '/FirstChar': 31,\n",
              "    '/LastChar': 255,\n",
              "    '/Widths': [778,\n",
              "     250,\n",
              "     333,\n",
              "     408,\n",
              "     500,\n",
              "     500,\n",
              "     833,\n",
              "     778,\n",
              "     180,\n",
              "     333,\n",
              "     333,\n",
              "     500,\n",
              "     564,\n",
              "     250,\n",
              "     333,\n",
              "     250,\n",
              "     278,\n",
              "     500,\n",
              "     500,\n",
              "     500,\n",
              "     500,\n",
              "     500,\n",
              "     500,\n",
              "     500,\n",
              "     500,\n",
              "     500,\n",
              "     500,\n",
              "     278,\n",
              "     278,\n",
              "     564,\n",
              "     564,\n",
              "     564,\n",
              "     444,\n",
              "     921,\n",
              "     722,\n",
              "     667,\n",
              "     667,\n",
              "     722,\n",
              "     611,\n",
              "     556,\n",
              "     722,\n",
              "     722,\n",
              "     333,\n",
              "     389,\n",
              "     722,\n",
              "     611,\n",
              "     889,\n",
              "     722,\n",
              "     722,\n",
              "     556,\n",
              "     722,\n",
              "     667,\n",
              "     556,\n",
              "     611,\n",
              "     722,\n",
              "     722,\n",
              "     944,\n",
              "     722,\n",
              "     722,\n",
              "     611,\n",
              "     333,\n",
              "     278,\n",
              "     333,\n",
              "     469,\n",
              "     500,\n",
              "     333,\n",
              "     444,\n",
              "     500,\n",
              "     444,\n",
              "     500,\n",
              "     444,\n",
              "     333,\n",
              "     500,\n",
              "     500,\n",
              "     278,\n",
              "     278,\n",
              "     500,\n",
              "     278,\n",
              "     778,\n",
              "     500,\n",
              "     500,\n",
              "     500,\n",
              "     500,\n",
              "     333,\n",
              "     389,\n",
              "     278,\n",
              "     500,\n",
              "     500,\n",
              "     722,\n",
              "     500,\n",
              "     500,\n",
              "     444,\n",
              "     480,\n",
              "     200,\n",
              "     480,\n",
              "     541,\n",
              "     778,\n",
              "     500,\n",
              "     778,\n",
              "     333,\n",
              "     500,\n",
              "     444,\n",
              "     1000,\n",
              "     500,\n",
              "     500,\n",
              "     333,\n",
              "     1000,\n",
              "     556,\n",
              "     333,\n",
              "     889,\n",
              "     778,\n",
              "     778,\n",
              "     778,\n",
              "     778,\n",
              "     333,\n",
              "     333,\n",
              "     444,\n",
              "     444,\n",
              "     350,\n",
              "     500,\n",
              "     1000,\n",
              "     333,\n",
              "     980,\n",
              "     389,\n",
              "     333,\n",
              "     722,\n",
              "     778,\n",
              "     778,\n",
              "     722,\n",
              "     250,\n",
              "     333,\n",
              "     500,\n",
              "     500,\n",
              "     500,\n",
              "     500,\n",
              "     200,\n",
              "     500,\n",
              "     333,\n",
              "     760,\n",
              "     276,\n",
              "     500,\n",
              "     564,\n",
              "     333,\n",
              "     760,\n",
              "     500,\n",
              "     400,\n",
              "     549,\n",
              "     300,\n",
              "     300,\n",
              "     333,\n",
              "     576,\n",
              "     453,\n",
              "     250,\n",
              "     333,\n",
              "     300,\n",
              "     310,\n",
              "     500,\n",
              "     750,\n",
              "     750,\n",
              "     750,\n",
              "     444,\n",
              "     722,\n",
              "     722,\n",
              "     722,\n",
              "     722,\n",
              "     722,\n",
              "     722,\n",
              "     889,\n",
              "     667,\n",
              "     611,\n",
              "     611,\n",
              "     611,\n",
              "     611,\n",
              "     333,\n",
              "     333,\n",
              "     333,\n",
              "     333,\n",
              "     722,\n",
              "     722,\n",
              "     722,\n",
              "     722,\n",
              "     722,\n",
              "     722,\n",
              "     722,\n",
              "     564,\n",
              "     722,\n",
              "     722,\n",
              "     722,\n",
              "     722,\n",
              "     722,\n",
              "     722,\n",
              "     556,\n",
              "     500,\n",
              "     444,\n",
              "     444,\n",
              "     444,\n",
              "     444,\n",
              "     444,\n",
              "     444,\n",
              "     667,\n",
              "     444,\n",
              "     444,\n",
              "     444,\n",
              "     444,\n",
              "     444,\n",
              "     278,\n",
              "     278,\n",
              "     278,\n",
              "     278,\n",
              "     500,\n",
              "     500,\n",
              "     500,\n",
              "     500,\n",
              "     500,\n",
              "     500,\n",
              "     500,\n",
              "     549,\n",
              "     500,\n",
              "     500,\n",
              "     500,\n",
              "     500,\n",
              "     500,\n",
              "     500,\n",
              "     500,\n",
              "     500],\n",
              "    '/BaseFont': '/TimesNewRomanPSMT',\n",
              "    '/FontDescriptor': {'/Type': '/FontDescriptor',\n",
              "     '/FontName': '/TimesNewRomanPSMT',\n",
              "     '/Ascent': 693,\n",
              "     '/CapHeight': 500,\n",
              "     '/Descent': -216,\n",
              "     '/Flags': 34,\n",
              "     '/FontBBox': [-568, -307, 2028, 1007],\n",
              "     '/ItalicAngle': 0,\n",
              "     '/StemV': 0,\n",
              "     '/AvgWidth': 401,\n",
              "     '/Leading': 150,\n",
              "     '/MaxWidth': 2597,\n",
              "     '/XHeight': 250,\n",
              "     '/FontFile': {'/Filter': ['/ASCII85Decode'],\n",
              "      '/Length1': 4680,\n",
              "      '/Length2': 46205,\n",
              "      '/Length3': 532}}}},\n",
              "  '/ProcSet': ['/PDF', '/Text']},\n",
              " '/Parent': {'/Type': '/Pages',\n",
              "  '/Count': 1,\n",
              "  '/Kids': [IndirectObject(4, 0, 132220347122784)]}}"
            ]
          },
          "metadata": {},
          "execution_count": 27
        }
      ]
    },
    {
      "cell_type": "code",
      "source": [
        "pdf_output = open('New_doc.pdf','wb')"
      ],
      "metadata": {
        "id": "6dwV2lQ2WDdi"
      },
      "execution_count": 28,
      "outputs": []
    },
    {
      "cell_type": "code",
      "source": [
        "pdf3.write(pdf_output)"
      ],
      "metadata": {
        "id": "xM0bCclZWnvH",
        "outputId": "b885d164-4cdf-4495-c790-d1db75702686",
        "colab": {
          "base_uri": "https://localhost:8080/"
        }
      },
      "execution_count": 30,
      "outputs": [
        {
          "output_type": "execute_result",
          "data": {
            "text/plain": [
              "(False, <_io.BufferedWriter name='New_doc.pdf'>)"
            ]
          },
          "metadata": {},
          "execution_count": 30
        }
      ]
    },
    {
      "cell_type": "code",
      "source": [
        "pdf_output.close()"
      ],
      "metadata": {
        "id": "tUYlHAioW1op"
      },
      "execution_count": 31,
      "outputs": []
    },
    {
      "cell_type": "code",
      "source": [
        "f.close()"
      ],
      "metadata": {
        "id": "GUnAWN44XFhN"
      },
      "execution_count": 32,
      "outputs": []
    },
    {
      "cell_type": "code",
      "source": [
        "brand_new = open('New_doc.pdf','rb')"
      ],
      "metadata": {
        "id": "cpWPNnw3XHD7"
      },
      "execution_count": 33,
      "outputs": []
    },
    {
      "cell_type": "code",
      "source": [
        "pdf4 = PyPDF2.PdfReader(brand_new)"
      ],
      "metadata": {
        "id": "Dh-hbKYyXOph"
      },
      "execution_count": 34,
      "outputs": []
    },
    {
      "cell_type": "code",
      "source": [
        "len(pdf4.pages)"
      ],
      "metadata": {
        "id": "ZkA5BpPvXagJ",
        "outputId": "6512b4d0-77d1-4010-cd89-101557d1ef4c",
        "colab": {
          "base_uri": "https://localhost:8080/"
        }
      },
      "execution_count": 35,
      "outputs": [
        {
          "output_type": "execute_result",
          "data": {
            "text/plain": [
              "1"
            ]
          },
          "metadata": {},
          "execution_count": 35
        }
      ]
    },
    {
      "cell_type": "code",
      "source": [
        "page1 = pdf4.pages[0]"
      ],
      "metadata": {
        "id": "NyXcawKKXwAs"
      },
      "execution_count": 36,
      "outputs": []
    },
    {
      "cell_type": "code",
      "source": [
        "file2 = page1.extract_text()"
      ],
      "metadata": {
        "id": "YebwebJ_XeSe"
      },
      "execution_count": 37,
      "outputs": []
    },
    {
      "cell_type": "code",
      "source": [
        "print(file2)"
      ],
      "metadata": {
        "id": "NIIVSyacX2XI",
        "outputId": "1e857ba8-3b59-4a41-828f-456648596407",
        "colab": {
          "base_uri": "https://localhost:8080/"
        }
      },
      "execution_count": 38,
      "outputs": [
        {
          "output_type": "stream",
          "name": "stdout",
          "text": [
            "Declaration of Independence\n",
            "IN CONGRESS, July 4, 1776.  \n",
            "The unanimous Declaration of the thirteen united States of America,  \n",
            "When in the Course of human events, it becomes necessary for one people to dissolve thepolitical bands which have connected them with another, and to assume among the powers of theearth, the separate and equal station to which the Laws of Nature and of Nature's God entitlethem, a decent respect to the opinions of mankind requires that they should declare the causeswhich impel them to the separation. We hold these truths to be self-evident, that all men are created equal, that they are endowed bytheir Creator with certain unalienable Rights, that among these are Life, Liberty and the pursuit\n",
            "of Happiness.— \u0014That to secure these rights, Governments are instituted among Men, derivingtheir just powers from the consent of the governed,—  \u0014That whenever any Form of Government\n",
            "becomes destructive of these ends, it is the Right of the People to alter or to abolish it, and to\n",
            "institute new Government, laying its foundation on such principles and organizing its powers in\n",
            "such form, as to them shall seem most likely to effect their Safety and Happiness. Prudence,indeed, will dictate that Governments long established should not be changed for light andtransient causes; and accordingly all experience hath shewn, that mankind are more disposed to\n",
            "suffer, while evils are sufferable, than to right themselves by abolishing the forms to which theyare accustomed. But when a long train of abuses and usurpations, pursuing invariably the same\n",
            "Object evinces a design to reduce them under absolute Despotism, it is their right, it is their duty,\n",
            "to throw off such Government, and to provide new Guards for their future securit y.— \u0014Such has\n",
            "been the patient sufferance of these Colonies; and such is now the necessity which constrainsthem to alter their former Systems of Government. The history of the present King of GreatBritain is a history of repeated injuries and usurpations, all having in direct object the\n",
            "establishment of an absolute Tyranny over these States. To prove this, let Facts be submitted to a\n",
            "candid world. \n",
            "He has refused his Assent to Laws, the most wholesome and necessary for the\n",
            "public good.He has forbidden his Governors to pass Laws of immediate and pressingimportance, unless suspended in their operation till his Assent should be obtained;and when so suspended, he has utterly neglected to attend to them.He has refused to pass other Laws for the accommodation of large districts of\n",
            "people, unless those people would relinquish the right of Representation in theLegislature, a right inestimable to them and formidable to tyrants only. He has called together legislative bodies at places unusual, uncomfortable, and distantfrom the depository of their public Records, for the sole purpose of fatiguing them into\n",
            "compliance with his measures.\n"
          ]
        }
      ]
    },
    {
      "cell_type": "code",
      "source": [
        "brand_new.close()"
      ],
      "metadata": {
        "id": "ZH0AGvs5X9Pz"
      },
      "execution_count": 39,
      "outputs": []
    },
    {
      "cell_type": "code",
      "source": [
        "f = open('US_Declaration.pdf','rb')"
      ],
      "metadata": {
        "id": "E_tVndopYFL_"
      },
      "execution_count": 49,
      "outputs": []
    },
    {
      "cell_type": "code",
      "source": [
        "text1 = []"
      ],
      "metadata": {
        "id": "uReIBqTgYnZF"
      },
      "execution_count": 50,
      "outputs": []
    },
    {
      "cell_type": "code",
      "source": [
        "pdf4 = PyPDF2.PdfReader(f)"
      ],
      "metadata": {
        "id": "VHUqq74nYrLq"
      },
      "execution_count": 51,
      "outputs": []
    },
    {
      "cell_type": "code",
      "source": [
        "for p in range(len(pdf4.pages)):\n",
        "  page = pdf4.pages[p]\n",
        "  text1.append(page.extract_text())\n",
        "\n",
        "f.close()"
      ],
      "metadata": {
        "id": "VM2OP0_AYxTE"
      },
      "execution_count": 52,
      "outputs": []
    },
    {
      "cell_type": "code",
      "source": [
        "text1"
      ],
      "metadata": {
        "id": "SZcvOn0VZP24",
        "outputId": "6009cda8-fbde-4ce9-db6c-1a4124b4e1e4",
        "colab": {
          "base_uri": "https://localhost:8080/"
        }
      },
      "execution_count": 53,
      "outputs": [
        {
          "output_type": "execute_result",
          "data": {
            "text/plain": [
              "[\"Declaration of Independence\\nIN CONGRESS, July 4, 1776.  \\nThe unanimous Declaration of the thirteen united States of America,  \\nWhen in the Course of human events, it becomes necessary for one people to dissolve thepolitical bands which have connected them with another, and to assume among the powers of theearth, the separate and equal station to which the Laws of Nature and of Nature's God entitlethem, a decent respect to the opinions of mankind requires that they should declare the causeswhich impel them to the separation. We hold these truths to be self-evident, that all men are created equal, that they are endowed bytheir Creator with certain unalienable Rights, that among these are Life, Liberty and the pursuit\\nof Happiness.— \\x14That to secure these rights, Governments are instituted among Men, derivingtheir just powers from the consent of the governed,—  \\x14That whenever any Form of Government\\nbecomes destructive of these ends, it is the Right of the People to alter or to abolish it, and to\\ninstitute new Government, laying its foundation on such principles and organizing its powers in\\nsuch form, as to them shall seem most likely to effect their Safety and Happiness. Prudence,indeed, will dictate that Governments long established should not be changed for light andtransient causes; and accordingly all experience hath shewn, that mankind are more disposed to\\nsuffer, while evils are sufferable, than to right themselves by abolishing the forms to which theyare accustomed. But when a long train of abuses and usurpations, pursuing invariably the same\\nObject evinces a design to reduce them under absolute Despotism, it is their right, it is their duty,\\nto throw off such Government, and to provide new Guards for their future securit y.— \\x14Such has\\nbeen the patient sufferance of these Colonies; and such is now the necessity which constrainsthem to alter their former Systems of Government. The history of the present King of GreatBritain is a history of repeated injuries and usurpations, all having in direct object the\\nestablishment of an absolute Tyranny over these States. To prove this, let Facts be submitted to a\\ncandid world. \\nHe has refused his Assent to Laws, the most wholesome and necessary for the\\npublic good.He has forbidden his Governors to pass Laws of immediate and pressingimportance, unless suspended in their operation till his Assent should be obtained;and when so suspended, he has utterly neglected to attend to them.He has refused to pass other Laws for the accommodation of large districts of\\npeople, unless those people would relinquish the right of Representation in theLegislature, a right inestimable to them and formidable to tyrants only. He has called together legislative bodies at places unusual, uncomfortable, and distantfrom the depository of their public Records, for the sole purpose of fatiguing them into\\ncompliance with his measures.\",\n",
              " 'He has dissolved Re presentative Ho uses repeatedly , for opposing wit h manly\\nfirmness his invasions on the rights of the people.\\nHe has refused for a long time, after such dissolutions, to cause others to be\\nelected; whereby the Leg islative powers, incapable of Annihilation, have returned\\nto the People at lar ge for their exe rcise; the State r emaining in the me an time\\nexposed to all the dangers of invasion from without, and convulsions within.\\nHe has endeavou red to prevent the  population of these  States; for that pur pose\\nobstructing the L aws for Natural ization of Foreig ners; refusing  to pass others to\\nencourage their migrations hither, and raising the conditions of new\\nAppropriations of  Lands.\\nHe has obstructed the Administration of Justice, by refusing his Assent to Laws\\nfor establishing  Judiciary pow ers.\\nHe has made Judge s dependent on his Wil l alone, for the te nure of their off ices,\\nand the amount and  payment of t heir salaries.\\nHe has erected  a multitude of New  Offices, and se nt hither swarms of  Officers to\\nharrass our people, and eat out their substance.\\nHe has kept among us, in times of peace, Standing Armies without the Consent of\\nour legislature s.\\nHe has affected to render the Military independent of a nd superior to the Civil power.\\nHe has combined with others to subject us to a jurisdiction foreign to our\\nconstitution, and unacknowledged by our laws; giving his Assent to their Acts of\\npretended Legislation:\\nFor Quartering  large bodies of  armed troops amon g us:\\nFor protecting them, by a mock Trial, from punishment for any  Murders which\\nthey should c ommit on the Inha bitants of these Sta tes:\\nFor cutting off our Trade with all parts of the world:\\nFor imposing Taxe s on us without our Con sent: For deprivi ng us in many  cases,\\nof the benefits of T rial by J ury:\\nFor transporting us beyond Seas to be tried for pretended of fences\\nFor abolishing the free System of English L aws in a neighbouring Province,\\nestablishing therein an Arbitrary government, and e nlarging its Boundaries so as',\n",
              " 'to render it at onc e an example and fi t instrument for intr oducing the same\\nabsolute rule into  these Colonies:\\nFor taking away our Charters, abolishing our most valuable L aws, and altering\\nfundamentally  the Forms of our G overnments:\\nFor suspending  our own Leg islatures, and de claring themse lves invested with\\npower to legislate for us in all cases whatsoever.\\nHe has abdicated Government here, by declar ing us out of his Protection and\\nwaging War ag ainst us.\\nHe has plundered our seas, ravaged our Coasts, burnt our towns, and destroy ed the\\nlives of our people.\\nHe is at this time transporting large Armies of foreign Mercenaries to compleat\\nthe works of death, desolation and tyranny , already begun with circumstances of\\nCruelty & pe rfidy scar cely para lleled in the most ba rbarous ages,  and totally\\nunworthy of the Head of a civilized nation.\\nHe has constrained our fellow Citizens taken Captive on the high Seas to bear\\nArms against their Country, to become the executioners of their friends and\\nBrethren, or to  fall themselves by  their Hands.\\nHe has excited domestic insurrections amongst us, and has endeavoured to bring\\non the inhabitants of our frontiers, the merciless Indian Savages, whose known\\nrule of warfare, is an undistinguished destruction of all ages, sexes and conditions. \\nIn every  stage of these O ppressions We have  Petitioned for Redr ess in the most humble  terms:\\nOur repeated Pe titions have been a nswered only  by repeate d injury. A Pr ince whose char acter is\\nthus marked by every ac t which may define a Tyra nt, is unfit to be the ruler of a free people. \\nNor have We been wanting in attentions to our Brittish brethren. We have warned them from\\ntime to time  of attemp ts by th eir legi slature t o extend an  unwarra ntable jur isdiction  over us. We\\nhave reminded them of the circumstances of our emigration and settlement here. We have\\nappealed to their native justice and magnanimity, and we have c onjured them by the ties of our\\ncommon kindred to disavow these usurpations, which, would inevitably interrupt our\\nconnections and correspondence. They too have bee n deaf to the voice of justice and of\\nconsanguinity. We must, therefore, acquiesce in the necessity , which denounces our Separation,\\nand hold them, as we hold the rest of mankind, Enemies in War, in Peace Friends. \\nWe, therefore, t he Representativ es of the united Sta tes of America, i n General Congr ess,\\nAssembled, appealing to the Supreme Judge of the world for the rectitude of our intentions, do,\\nin the Name, and by Authority of the g ood People of these Colonies, solemnly publish and\\ndeclare, That th ese United Colonie s are, and of Rig ht ought to be Fre e and Indepe ndent States;\\nthat they are Absolved from all Allegiance to the British Crown, and that a ll political connection',\n",
              " 'between them and the State of Great Britain, is and ought to be totally dissolved; and that as Freeand Independent States, they have full Power to levy War, conclude Peace, contract Alliances,\\nestablish Commerce, and to do all other Acts and Things which Independent States may of rightdo. And for the support of this Declaration, with a firm reliance on the protection of divineProvidence, we mutually pledge to each other our Lives, our Fortunes and our sacred Honor.[The 56 signatures on the Declaration were arranged in six columns: ] \\n[Column 1] Georgia:\\n   Button Gwinnett\\n   Lyman Hall\\n   George Walton \\n[Column 2] North Carolina:\\n   William Hooper\\n   Joseph Hewes\\n   John Penn\\n South Carolina:\\n   Edward Ru tledge\\n   Thomas Heyward, Jr.\\n  Thomas Lynch, Jr.\\n  Arthur Middleton \\n[Column 3] Massachusetts:\\n   John Hancock Maryland:\\n   Samuel Chase   William Paca   Thomas Stone   Charles Carroll of Carrollton Virginia:\\n   George Wythe   Richard Henry Lee   Thomas Jefferson   Benjamin Harrison   Thomas Nelson, Jr.   Francis Lightfoot Lee   Carter Braxton [Column 4] Pennsylvania:\\n  Robert Morris   Benjamin Rush\\n   Benjamin Fran klin\\n   John Morton',\n",
              " '   George Clymer\\n   James Smith\\n   George Taylor\\n   James Wilson\\n   George Ross\\n Delaware:\\n   Caesar Rodney\\n   George Read\\n   Thomas McKean \\n[Column 5] New York:\\n   Wi lliam Floyd\\n   Philip Livingston\\n   Francis L ewis\\n   Lewis Morris\\n New Jersey:\\n   Richard Stockton\\n   John Witherspoon\\n   Francis Hopkinson\\n   John Hart\\n   Abraham Clark \\n[Column 6] New Hampshire:\\n   Josiah Bartlett\\n   William Whipple\\n Massachusetts:\\n   Samuel Adams\\n   John Adams\\n   Robert Treat Paine\\n   Elbridge Gerry\\n Rhode Island:\\n   Stephen Hopkins\\n   William Ellery\\n Connecticut:\\n   Roger Sherman\\n   Samuel Huntington\\n   William Williams\\n   Oliver Wolcott\\n New Hampshire:\\n Matthew Thornton\\n ']"
            ]
          },
          "metadata": {},
          "execution_count": 53
        }
      ]
    },
    {
      "cell_type": "code",
      "source": [
        "len(text1)"
      ],
      "metadata": {
        "id": "ifS96IHTZbIi",
        "outputId": "25357c32-b8a9-4219-c451-af368b53d3c2",
        "colab": {
          "base_uri": "https://localhost:8080/"
        }
      },
      "execution_count": 54,
      "outputs": [
        {
          "output_type": "execute_result",
          "data": {
            "text/plain": [
              "5"
            ]
          },
          "metadata": {},
          "execution_count": 54
        }
      ]
    },
    {
      "cell_type": "code",
      "source": [
        "for page in text1:\n",
        "  print(page)\n",
        "  print('\\n')\n",
        "  print('\\n')\n",
        ""
      ],
      "metadata": {
        "id": "nqnQfr0LZq3E",
        "outputId": "d7754f3c-5290-4f90-afce-9574c4693f5d",
        "colab": {
          "base_uri": "https://localhost:8080/"
        }
      },
      "execution_count": 56,
      "outputs": [
        {
          "output_type": "stream",
          "name": "stdout",
          "text": [
            "Declaration of Independence\n",
            "IN CONGRESS, July 4, 1776.  \n",
            "The unanimous Declaration of the thirteen united States of America,  \n",
            "When in the Course of human events, it becomes necessary for one people to dissolve thepolitical bands which have connected them with another, and to assume among the powers of theearth, the separate and equal station to which the Laws of Nature and of Nature's God entitlethem, a decent respect to the opinions of mankind requires that they should declare the causeswhich impel them to the separation. We hold these truths to be self-evident, that all men are created equal, that they are endowed bytheir Creator with certain unalienable Rights, that among these are Life, Liberty and the pursuit\n",
            "of Happiness.— \u0014That to secure these rights, Governments are instituted among Men, derivingtheir just powers from the consent of the governed,—  \u0014That whenever any Form of Government\n",
            "becomes destructive of these ends, it is the Right of the People to alter or to abolish it, and to\n",
            "institute new Government, laying its foundation on such principles and organizing its powers in\n",
            "such form, as to them shall seem most likely to effect their Safety and Happiness. Prudence,indeed, will dictate that Governments long established should not be changed for light andtransient causes; and accordingly all experience hath shewn, that mankind are more disposed to\n",
            "suffer, while evils are sufferable, than to right themselves by abolishing the forms to which theyare accustomed. But when a long train of abuses and usurpations, pursuing invariably the same\n",
            "Object evinces a design to reduce them under absolute Despotism, it is their right, it is their duty,\n",
            "to throw off such Government, and to provide new Guards for their future securit y.— \u0014Such has\n",
            "been the patient sufferance of these Colonies; and such is now the necessity which constrainsthem to alter their former Systems of Government. The history of the present King of GreatBritain is a history of repeated injuries and usurpations, all having in direct object the\n",
            "establishment of an absolute Tyranny over these States. To prove this, let Facts be submitted to a\n",
            "candid world. \n",
            "He has refused his Assent to Laws, the most wholesome and necessary for the\n",
            "public good.He has forbidden his Governors to pass Laws of immediate and pressingimportance, unless suspended in their operation till his Assent should be obtained;and when so suspended, he has utterly neglected to attend to them.He has refused to pass other Laws for the accommodation of large districts of\n",
            "people, unless those people would relinquish the right of Representation in theLegislature, a right inestimable to them and formidable to tyrants only. He has called together legislative bodies at places unusual, uncomfortable, and distantfrom the depository of their public Records, for the sole purpose of fatiguing them into\n",
            "compliance with his measures.\n",
            "\n",
            "\n",
            "\n",
            "\n",
            "He has dissolved Re presentative Ho uses repeatedly , for opposing wit h manly\n",
            "firmness his invasions on the rights of the people.\n",
            "He has refused for a long time, after such dissolutions, to cause others to be\n",
            "elected; whereby the Leg islative powers, incapable of Annihilation, have returned\n",
            "to the People at lar ge for their exe rcise; the State r emaining in the me an time\n",
            "exposed to all the dangers of invasion from without, and convulsions within.\n",
            "He has endeavou red to prevent the  population of these  States; for that pur pose\n",
            "obstructing the L aws for Natural ization of Foreig ners; refusing  to pass others to\n",
            "encourage their migrations hither, and raising the conditions of new\n",
            "Appropriations of  Lands.\n",
            "He has obstructed the Administration of Justice, by refusing his Assent to Laws\n",
            "for establishing  Judiciary pow ers.\n",
            "He has made Judge s dependent on his Wil l alone, for the te nure of their off ices,\n",
            "and the amount and  payment of t heir salaries.\n",
            "He has erected  a multitude of New  Offices, and se nt hither swarms of  Officers to\n",
            "harrass our people, and eat out their substance.\n",
            "He has kept among us, in times of peace, Standing Armies without the Consent of\n",
            "our legislature s.\n",
            "He has affected to render the Military independent of a nd superior to the Civil power.\n",
            "He has combined with others to subject us to a jurisdiction foreign to our\n",
            "constitution, and unacknowledged by our laws; giving his Assent to their Acts of\n",
            "pretended Legislation:\n",
            "For Quartering  large bodies of  armed troops amon g us:\n",
            "For protecting them, by a mock Trial, from punishment for any  Murders which\n",
            "they should c ommit on the Inha bitants of these Sta tes:\n",
            "For cutting off our Trade with all parts of the world:\n",
            "For imposing Taxe s on us without our Con sent: For deprivi ng us in many  cases,\n",
            "of the benefits of T rial by J ury:\n",
            "For transporting us beyond Seas to be tried for pretended of fences\n",
            "For abolishing the free System of English L aws in a neighbouring Province,\n",
            "establishing therein an Arbitrary government, and e nlarging its Boundaries so as\n",
            "\n",
            "\n",
            "\n",
            "\n",
            "to render it at onc e an example and fi t instrument for intr oducing the same\n",
            "absolute rule into  these Colonies:\n",
            "For taking away our Charters, abolishing our most valuable L aws, and altering\n",
            "fundamentally  the Forms of our G overnments:\n",
            "For suspending  our own Leg islatures, and de claring themse lves invested with\n",
            "power to legislate for us in all cases whatsoever.\n",
            "He has abdicated Government here, by declar ing us out of his Protection and\n",
            "waging War ag ainst us.\n",
            "He has plundered our seas, ravaged our Coasts, burnt our towns, and destroy ed the\n",
            "lives of our people.\n",
            "He is at this time transporting large Armies of foreign Mercenaries to compleat\n",
            "the works of death, desolation and tyranny , already begun with circumstances of\n",
            "Cruelty & pe rfidy scar cely para lleled in the most ba rbarous ages,  and totally\n",
            "unworthy of the Head of a civilized nation.\n",
            "He has constrained our fellow Citizens taken Captive on the high Seas to bear\n",
            "Arms against their Country, to become the executioners of their friends and\n",
            "Brethren, or to  fall themselves by  their Hands.\n",
            "He has excited domestic insurrections amongst us, and has endeavoured to bring\n",
            "on the inhabitants of our frontiers, the merciless Indian Savages, whose known\n",
            "rule of warfare, is an undistinguished destruction of all ages, sexes and conditions. \n",
            "In every  stage of these O ppressions We have  Petitioned for Redr ess in the most humble  terms:\n",
            "Our repeated Pe titions have been a nswered only  by repeate d injury. A Pr ince whose char acter is\n",
            "thus marked by every ac t which may define a Tyra nt, is unfit to be the ruler of a free people. \n",
            "Nor have We been wanting in attentions to our Brittish brethren. We have warned them from\n",
            "time to time  of attemp ts by th eir legi slature t o extend an  unwarra ntable jur isdiction  over us. We\n",
            "have reminded them of the circumstances of our emigration and settlement here. We have\n",
            "appealed to their native justice and magnanimity, and we have c onjured them by the ties of our\n",
            "common kindred to disavow these usurpations, which, would inevitably interrupt our\n",
            "connections and correspondence. They too have bee n deaf to the voice of justice and of\n",
            "consanguinity. We must, therefore, acquiesce in the necessity , which denounces our Separation,\n",
            "and hold them, as we hold the rest of mankind, Enemies in War, in Peace Friends. \n",
            "We, therefore, t he Representativ es of the united Sta tes of America, i n General Congr ess,\n",
            "Assembled, appealing to the Supreme Judge of the world for the rectitude of our intentions, do,\n",
            "in the Name, and by Authority of the g ood People of these Colonies, solemnly publish and\n",
            "declare, That th ese United Colonie s are, and of Rig ht ought to be Fre e and Indepe ndent States;\n",
            "that they are Absolved from all Allegiance to the British Crown, and that a ll political connection\n",
            "\n",
            "\n",
            "\n",
            "\n",
            "between them and the State of Great Britain, is and ought to be totally dissolved; and that as Freeand Independent States, they have full Power to levy War, conclude Peace, contract Alliances,\n",
            "establish Commerce, and to do all other Acts and Things which Independent States may of rightdo. And for the support of this Declaration, with a firm reliance on the protection of divineProvidence, we mutually pledge to each other our Lives, our Fortunes and our sacred Honor.[The 56 signatures on the Declaration were arranged in six columns: ] \n",
            "[Column 1] Georgia:\n",
            "   Button Gwinnett\n",
            "   Lyman Hall\n",
            "   George Walton \n",
            "[Column 2] North Carolina:\n",
            "   William Hooper\n",
            "   Joseph Hewes\n",
            "   John Penn\n",
            " South Carolina:\n",
            "   Edward Ru tledge\n",
            "   Thomas Heyward, Jr.\n",
            "  Thomas Lynch, Jr.\n",
            "  Arthur Middleton \n",
            "[Column 3] Massachusetts:\n",
            "   John Hancock Maryland:\n",
            "   Samuel Chase   William Paca   Thomas Stone   Charles Carroll of Carrollton Virginia:\n",
            "   George Wythe   Richard Henry Lee   Thomas Jefferson   Benjamin Harrison   Thomas Nelson, Jr.   Francis Lightfoot Lee   Carter Braxton [Column 4] Pennsylvania:\n",
            "  Robert Morris   Benjamin Rush\n",
            "   Benjamin Fran klin\n",
            "   John Morton\n",
            "\n",
            "\n",
            "\n",
            "\n",
            "   George Clymer\n",
            "   James Smith\n",
            "   George Taylor\n",
            "   James Wilson\n",
            "   George Ross\n",
            " Delaware:\n",
            "   Caesar Rodney\n",
            "   George Read\n",
            "   Thomas McKean \n",
            "[Column 5] New York:\n",
            "   Wi lliam Floyd\n",
            "   Philip Livingston\n",
            "   Francis L ewis\n",
            "   Lewis Morris\n",
            " New Jersey:\n",
            "   Richard Stockton\n",
            "   John Witherspoon\n",
            "   Francis Hopkinson\n",
            "   John Hart\n",
            "   Abraham Clark \n",
            "[Column 6] New Hampshire:\n",
            "   Josiah Bartlett\n",
            "   William Whipple\n",
            " Massachusetts:\n",
            "   Samuel Adams\n",
            "   John Adams\n",
            "   Robert Treat Paine\n",
            "   Elbridge Gerry\n",
            " Rhode Island:\n",
            "   Stephen Hopkins\n",
            "   William Ellery\n",
            " Connecticut:\n",
            "   Roger Sherman\n",
            "   Samuel Huntington\n",
            "   William Williams\n",
            "   Oliver Wolcott\n",
            " New Hampshire:\n",
            " Matthew Thornton\n",
            " \n",
            "\n",
            "\n",
            "\n",
            "\n"
          ]
        }
      ]
    },
    {
      "cell_type": "markdown",
      "source": [
        "**Regular Expressions**"
      ],
      "metadata": {
        "id": "Unlc9eSYamO8"
      }
    },
    {
      "cell_type": "markdown",
      "source": [
        "You need to search a string for a term, usch as \"phone\". you can use this keyword to do this:"
      ],
      "metadata": {
        "id": "shNQ70IcaxxK"
      }
    },
    {
      "cell_type": "code",
      "source": [
        "\"phone\" in  \"is the phone here?\""
      ],
      "metadata": {
        "id": "f_QzZhKNaTIV",
        "outputId": "fd4f68b9-9c33-4c19-926a-c96f3ea55271",
        "colab": {
          "base_uri": "https://localhost:8080/"
        }
      },
      "execution_count": 57,
      "outputs": [
        {
          "output_type": "execute_result",
          "data": {
            "text/plain": [
              "True"
            ]
          },
          "metadata": {},
          "execution_count": 57
        }
      ]
    },
    {
      "cell_type": "markdown",
      "source": [
        "Searching for Basic Patterns"
      ],
      "metadata": {
        "id": "zAgKKKU0b-HC"
      }
    },
    {
      "cell_type": "code",
      "source": [
        "text = \"The agent's phone number is 408-555-1234. Call soon!\""
      ],
      "metadata": {
        "id": "0GCoiltabBNV"
      },
      "execution_count": 58,
      "outputs": []
    },
    {
      "cell_type": "code",
      "source": [
        "'phone' in  text"
      ],
      "metadata": {
        "id": "qqDQvO0mcCq7",
        "outputId": "a6ccb5dc-e8a3-4541-d6d1-1f99e86513ea",
        "colab": {
          "base_uri": "https://localhost:8080/"
        }
      },
      "execution_count": 59,
      "outputs": [
        {
          "output_type": "execute_result",
          "data": {
            "text/plain": [
              "True"
            ]
          },
          "metadata": {},
          "execution_count": 59
        }
      ]
    },
    {
      "cell_type": "code",
      "source": [
        "\"408-555-1234\" in text\n"
      ],
      "metadata": {
        "id": "NUc_G8bFda2a",
        "outputId": "69e2a2dc-f21c-466d-b6f3-3b8b3649cb85",
        "colab": {
          "base_uri": "https://localhost:8080/"
        }
      },
      "execution_count": 60,
      "outputs": [
        {
          "output_type": "execute_result",
          "data": {
            "text/plain": [
              "True"
            ]
          },
          "metadata": {},
          "execution_count": 60
        }
      ]
    },
    {
      "cell_type": "markdown",
      "source": [
        "Regular expression allow for pattern Searching in a text document."
      ],
      "metadata": {
        "id": "AxtcS3rNcZf0"
      }
    },
    {
      "cell_type": "code",
      "source": [
        "import re"
      ],
      "metadata": {
        "id": "_P9OpcjecGqH"
      },
      "execution_count": 61,
      "outputs": []
    },
    {
      "cell_type": "code",
      "source": [
        "pattern = \"phone\""
      ],
      "metadata": {
        "id": "JJNRkBY9dhCy"
      },
      "execution_count": 62,
      "outputs": []
    },
    {
      "cell_type": "code",
      "source": [
        "re.search(pattern,text)"
      ],
      "metadata": {
        "id": "JBh7gvardkC0",
        "outputId": "9f4c1353-d135-4582-c816-5cf2419d7bd6",
        "colab": {
          "base_uri": "https://localhost:8080/"
        }
      },
      "execution_count": 64,
      "outputs": [
        {
          "output_type": "execute_result",
          "data": {
            "text/plain": [
              "<re.Match object; span=(12, 17), match='phone'>"
            ]
          },
          "metadata": {},
          "execution_count": 64
        }
      ]
    },
    {
      "cell_type": "code",
      "source": [
        "my_match = re.search(pattern,text)"
      ],
      "metadata": {
        "id": "6eaurVXddn_B"
      },
      "execution_count": 65,
      "outputs": []
    },
    {
      "cell_type": "code",
      "source": [
        "my_match.span()"
      ],
      "metadata": {
        "id": "TCmLXXCid0oc",
        "outputId": "d3ddce5c-1a2e-4f34-facb-03c8f239f73e",
        "colab": {
          "base_uri": "https://localhost:8080/"
        }
      },
      "execution_count": 67,
      "outputs": [
        {
          "output_type": "execute_result",
          "data": {
            "text/plain": [
              "(12, 17)"
            ]
          },
          "metadata": {},
          "execution_count": 67
        }
      ]
    },
    {
      "cell_type": "code",
      "source": [
        "my_match.start()"
      ],
      "metadata": {
        "id": "EvUoJ44Ed20P",
        "outputId": "9143fdcc-b315-4744-d614-177d4ade2161",
        "colab": {
          "base_uri": "https://localhost:8080/"
        }
      },
      "execution_count": 68,
      "outputs": [
        {
          "output_type": "execute_result",
          "data": {
            "text/plain": [
              "12"
            ]
          },
          "metadata": {},
          "execution_count": 68
        }
      ]
    },
    {
      "cell_type": "code",
      "source": [
        "my_match.end()"
      ],
      "metadata": {
        "id": "ZDOZXsjnejtm",
        "outputId": "4de0b239-a672-41aa-e93e-0d43d7361e83",
        "colab": {
          "base_uri": "https://localhost:8080/"
        }
      },
      "execution_count": 69,
      "outputs": [
        {
          "output_type": "execute_result",
          "data": {
            "text/plain": [
              "17"
            ]
          },
          "metadata": {},
          "execution_count": 69
        }
      ]
    },
    {
      "cell_type": "code",
      "source": [
        "text2 = \"my phone is a new phone \""
      ],
      "metadata": {
        "id": "axA7xqqWenO7"
      },
      "execution_count": 70,
      "outputs": []
    },
    {
      "cell_type": "code",
      "source": [
        "match1 = re.search(pattern,text2)"
      ],
      "metadata": {
        "id": "9JXy42_reu21"
      },
      "execution_count": 73,
      "outputs": []
    },
    {
      "cell_type": "code",
      "source": [
        "match1.span()"
      ],
      "metadata": {
        "id": "fgi1jkdie1cg",
        "outputId": "c13be35d-cd52-42f6-b14a-e8492e5bfafc",
        "colab": {
          "base_uri": "https://localhost:8080/"
        }
      },
      "execution_count": 74,
      "outputs": [
        {
          "output_type": "execute_result",
          "data": {
            "text/plain": [
              "(3, 8)"
            ]
          },
          "metadata": {},
          "execution_count": 74
        }
      ]
    },
    {
      "cell_type": "code",
      "source": [
        "all_matches = re.findall(\"phone\",text2)"
      ],
      "metadata": {
        "id": "tc2TFyYOe3Y4"
      },
      "execution_count": 78,
      "outputs": []
    },
    {
      "cell_type": "code",
      "source": [
        "all_matches"
      ],
      "metadata": {
        "id": "eaEjqx7ffBj-",
        "outputId": "32fa5199-abe7-4b8a-9fc4-46e96dccf10b",
        "colab": {
          "base_uri": "https://localhost:8080/"
        }
      },
      "execution_count": 79,
      "outputs": [
        {
          "output_type": "execute_result",
          "data": {
            "text/plain": [
              "['phone', 'phone']"
            ]
          },
          "metadata": {},
          "execution_count": 79
        }
      ]
    },
    {
      "cell_type": "code",
      "source": [
        "len(all_matches)"
      ],
      "metadata": {
        "id": "7xiCp2LjfPhB",
        "outputId": "14b3c8dd-4a3a-4d55-9a8a-ce5811b30710",
        "colab": {
          "base_uri": "https://localhost:8080/"
        }
      },
      "execution_count": 80,
      "outputs": [
        {
          "output_type": "execute_result",
          "data": {
            "text/plain": [
              "2"
            ]
          },
          "metadata": {},
          "execution_count": 80
        }
      ]
    },
    {
      "cell_type": "code",
      "source": [
        "for matches in re.finditer(\"phone\",text2):\n",
        "  print(matches.span())"
      ],
      "metadata": {
        "id": "pbVTGNmHfadp",
        "outputId": "525e2a69-f850-47df-c50a-e2dee70a43ad",
        "colab": {
          "base_uri": "https://localhost:8080/"
        }
      },
      "execution_count": 83,
      "outputs": [
        {
          "output_type": "stream",
          "name": "stdout",
          "text": [
            "(3, 8)\n",
            "(18, 23)\n"
          ]
        }
      ]
    },
    {
      "cell_type": "code",
      "source": [],
      "metadata": {
        "id": "ZhEHHMgOfrsg"
      },
      "execution_count": null,
      "outputs": []
    }
  ]
}