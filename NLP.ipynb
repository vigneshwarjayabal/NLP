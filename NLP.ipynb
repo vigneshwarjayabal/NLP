{
  "nbformat": 4,
  "nbformat_minor": 0,
  "metadata": {
    "colab": {
      "provenance": [],
      "authorship_tag": "ABX9TyN0jxYTC3rJ+vEsL9Klvn6o",
      "include_colab_link": true
    },
    "kernelspec": {
      "name": "python3",
      "display_name": "Python 3"
    },
    "language_info": {
      "name": "python"
    }
  },
  "cells": [
    {
      "cell_type": "markdown",
      "metadata": {
        "id": "view-in-github",
        "colab_type": "text"
      },
      "source": [
        "<a href=\"https://colab.research.google.com/github/vigneshwarjayabal/NLP/blob/main/NLP.ipynb\" target=\"_parent\"><img src=\"https://colab.research.google.com/assets/colab-badge.svg\" alt=\"Open In Colab\"/></a>"
      ]
    },
    {
      "cell_type": "markdown",
      "source": [
        "#**Phase 1: Python Text Basics**"
      ],
      "metadata": {
        "id": "krNJ6JWzKpPO"
      }
    },
    {
      "cell_type": "markdown",
      "source": [
        "Some basic print formating (f-string literal) with aligment options."
      ],
      "metadata": {
        "id": "nwFnlh5vK5U8"
      }
    },
    {
      "cell_type": "code",
      "execution_count": 1,
      "metadata": {
        "colab": {
          "base_uri": "https://localhost:8080/"
        },
        "id": "spdOn8ALKdE-",
        "outputId": "4c93a2db-2303-4d1f-9de8-8ffb7f811a2f"
      },
      "outputs": [
        {
          "output_type": "stream",
          "name": "stdout",
          "text": [
            "my name is vignesh\n"
          ]
        }
      ],
      "source": [
        "person = \"vignesh\"  #old way to format the string\n",
        "\n",
        "print(\"my name is {}\".format(person))"
      ]
    },
    {
      "cell_type": "code",
      "source": [
        "#f-string\n",
        "print(f\"my name is {person}\")"
      ],
      "metadata": {
        "colab": {
          "base_uri": "https://localhost:8080/"
        },
        "id": "VmFrvntwLXzJ",
        "outputId": "e980d121-10d2-4cac-ad7d-8c3fd99f22da"
      },
      "execution_count": 2,
      "outputs": [
        {
          "output_type": "stream",
          "name": "stdout",
          "text": [
            "my name is vignesh\n"
          ]
        }
      ]
    },
    {
      "cell_type": "code",
      "source": [
        "d = {'a':123,'b':456}\n",
        "\n",
        "print(f\"my number is {d['a']}\")"
      ],
      "metadata": {
        "colab": {
          "base_uri": "https://localhost:8080/"
        },
        "id": "7MI7vsEjLn6P",
        "outputId": "147644f9-3eb1-49a0-956b-59315f1fad49"
      },
      "execution_count": 3,
      "outputs": [
        {
          "output_type": "stream",
          "name": "stdout",
          "text": [
            "my number is 123\n"
          ]
        }
      ]
    },
    {
      "cell_type": "code",
      "source": [
        "mylist = [0,1,2]\n",
        "\n",
        "print(f\"my number is {mylist[0]}\")"
      ],
      "metadata": {
        "colab": {
          "base_uri": "https://localhost:8080/"
        },
        "id": "uAf6eXKoME7Y",
        "outputId": "2603f673-a5b9-4c74-fa74-0f62a9f0b1d0"
      },
      "execution_count": 4,
      "outputs": [
        {
          "output_type": "stream",
          "name": "stdout",
          "text": [
            "my number is 0\n"
          ]
        }
      ]
    },
    {
      "cell_type": "code",
      "source": [
        "library = [('Author', 'Topic', 'Pages'), ('Twain', 'Rafting in water alone', 601), ('Feynman', 'Physics', 95), ('Hamilton', 'Mythology', 144)]"
      ],
      "metadata": {
        "id": "IK69rRKuMSWU"
      },
      "execution_count": 10,
      "outputs": []
    },
    {
      "cell_type": "code",
      "source": [
        "library"
      ],
      "metadata": {
        "colab": {
          "base_uri": "https://localhost:8080/"
        },
        "id": "Enn7TtqMM6Qg",
        "outputId": "745a8aba-23e8-4f0b-a766-f686ce2d1a02"
      },
      "execution_count": 11,
      "outputs": [
        {
          "output_type": "execute_result",
          "data": {
            "text/plain": [
              "[('Author', 'Topic', 'Pages'),\n",
              " ('Twain', 'Rafting in water alone', 601),\n",
              " ('Feynman', 'Physics', 95),\n",
              " ('Hamilton', 'Mythology', 144)]"
            ]
          },
          "metadata": {},
          "execution_count": 11
        }
      ]
    },
    {
      "cell_type": "markdown",
      "source": [
        "**Minimum Widths, Alignment and Padding**\n",
        "\n",
        "You can pass arguments inside a nested set of curly braces to set a minimum width for the field, the alignment and even padding characters."
      ],
      "metadata": {
        "id": "ZDPqQ75dNuUc"
      }
    },
    {
      "cell_type": "code",
      "source": [
        "for author,topic,pages in library:\n",
        "  print(f\"{author} {topic} {pages}\")"
      ],
      "metadata": {
        "colab": {
          "base_uri": "https://localhost:8080/"
        },
        "id": "g1TWPCy6M75H",
        "outputId": "63f08bec-06b0-4c9d-fa7d-9efca19346e4"
      },
      "execution_count": 12,
      "outputs": [
        {
          "output_type": "stream",
          "name": "stdout",
          "text": [
            "Author Topic Pages\n",
            "Twain Rafting in water alone 601\n",
            "Feynman Physics 95\n",
            "Hamilton Mythology 144\n"
          ]
        }
      ]
    },
    {
      "cell_type": "markdown",
      "source": [
        "inside the placeholder put : open curly bracket give number space you want."
      ],
      "metadata": {
        "id": "RuH8HjMdPJAp"
      }
    },
    {
      "cell_type": "code",
      "source": [
        "for author,topic,pages in library:\n",
        "  print(f\"{author:{10}} {topic:{30}} {pages:{10}}\")"
      ],
      "metadata": {
        "colab": {
          "base_uri": "https://localhost:8080/"
        },
        "id": "9UZHu0FuODkB",
        "outputId": "91ef242a-1859-41f1-fe42-e112cb1d2e4d"
      },
      "execution_count": 13,
      "outputs": [
        {
          "output_type": "stream",
          "name": "stdout",
          "text": [
            "Author     Topic                          Pages     \n",
            "Twain      Rafting in water alone                601\n",
            "Feynman    Physics                                95\n",
            "Hamilton   Mythology                             144\n"
          ]
        }
      ]
    },
    {
      "cell_type": "markdown",
      "source": [
        "To set the alignment, use the character `<` for left-align,  `^` for center, `>` for right."
      ],
      "metadata": {
        "id": "bLDJtPAPPFiN"
      }
    },
    {
      "cell_type": "code",
      "source": [
        "for author,topic,pages in library:\n",
        "  print(f\"{author:{10}} {topic:{30}} {pages:>{10}}\")"
      ],
      "metadata": {
        "colab": {
          "base_uri": "https://localhost:8080/"
        },
        "id": "Dqy93ERkOWDU",
        "outputId": "858f3d63-0ff9-4938-e93c-54ad14d38dbd"
      },
      "execution_count": 14,
      "outputs": [
        {
          "output_type": "stream",
          "name": "stdout",
          "text": [
            "Author     Topic                               Pages\n",
            "Twain      Rafting in water alone                601\n",
            "Feynman    Physics                                95\n",
            "Hamilton   Mythology                             144\n"
          ]
        }
      ]
    },
    {
      "cell_type": "markdown",
      "source": [
        "To set padding, precede the alignment character with the padding character (`-` and `.` are common choices)."
      ],
      "metadata": {
        "id": "j7HS3MVcPwr-"
      }
    },
    {
      "cell_type": "code",
      "source": [
        "for author,topic,pages in library:\n",
        "  print(f\"{author:{10}} {topic:{30}} {pages:->{10}}\")"
      ],
      "metadata": {
        "colab": {
          "base_uri": "https://localhost:8080/"
        },
        "id": "hUyX1S9MOnjB",
        "outputId": "e23db235-f849-42e2-d687-f3f45c986191"
      },
      "execution_count": 15,
      "outputs": [
        {
          "output_type": "stream",
          "name": "stdout",
          "text": [
            "Author     Topic                          -----Pages\n",
            "Twain      Rafting in water alone         -------601\n",
            "Feynman    Physics                        --------95\n",
            "Hamilton   Mythology                      -------144\n"
          ]
        }
      ]
    },
    {
      "cell_type": "code",
      "source": [
        "for author,topic,pages in library:\n",
        "  print(f\"{author:{10}} {topic:{30}} {pages:.>{10}}\")"
      ],
      "metadata": {
        "colab": {
          "base_uri": "https://localhost:8080/"
        },
        "id": "UXQu8RJ-PkPq",
        "outputId": "43376261-fd09-4546-c21c-aff04e986892"
      },
      "execution_count": 16,
      "outputs": [
        {
          "output_type": "stream",
          "name": "stdout",
          "text": [
            "Author     Topic                          .....Pages\n",
            "Twain      Rafting in water alone         .......601\n",
            "Feynman    Physics                        ........95\n",
            "Hamilton   Mythology                      .......144\n"
          ]
        }
      ]
    },
    {
      "cell_type": "markdown",
      "source": [
        "Date Formatting"
      ],
      "metadata": {
        "id": "vbwFLjMcQNv8"
      }
    },
    {
      "cell_type": "code",
      "source": [
        "from datetime import datetime\n",
        "\n",
        "today = datetime(year=2025, month=1, day=27)\n",
        "\n",
        "print(f'{today}')"
      ],
      "metadata": {
        "colab": {
          "base_uri": "https://localhost:8080/"
        },
        "id": "e3k-SKWVP3Pz",
        "outputId": "fe7136c9-5ba5-41aa-d735-d3f14d4ced5f"
      },
      "execution_count": 19,
      "outputs": [
        {
          "output_type": "stream",
          "name": "stdout",
          "text": [
            "2025-01-27 00:00:00\n"
          ]
        }
      ]
    },
    {
      "cell_type": "code",
      "source": [
        "from datetime import datetime\n",
        "\n",
        "today = datetime(year=2025, month=1, day=27)\n",
        "\n",
        "print(f'{today:%B %d, %Y}')"
      ],
      "metadata": {
        "colab": {
          "base_uri": "https://localhost:8080/"
        },
        "id": "okoG-lfwQWiu",
        "outputId": "1a9039ce-fe9d-4dd5-b9b9-5617bf068fcf"
      },
      "execution_count": 20,
      "outputs": [
        {
          "output_type": "stream",
          "name": "stdout",
          "text": [
            "January 27, 2025\n"
          ]
        }
      ]
    },
    {
      "cell_type": "code",
      "source": [
        "today"
      ],
      "metadata": {
        "colab": {
          "base_uri": "https://localhost:8080/"
        },
        "id": "iuzLNmVbQkXh",
        "outputId": "8000258a-eb20-4a81-b2cb-5f6b19e95986"
      },
      "execution_count": 21,
      "outputs": [
        {
          "output_type": "execute_result",
          "data": {
            "text/plain": [
              "datetime.datetime(2025, 1, 27, 0, 0)"
            ]
          },
          "metadata": {},
          "execution_count": 21
        }
      ]
    },
    {
      "cell_type": "markdown",
      "source": [
        "How to read and write to text files with python"
      ],
      "metadata": {
        "id": "DXX4BCr2Q76b"
      }
    },
    {
      "cell_type": "code",
      "source": [
        "%%writefile test.txt\n",
        "Hello, this is a quick test file.\n",
        "This is the second line of the file ."
      ],
      "metadata": {
        "colab": {
          "base_uri": "https://localhost:8080/"
        },
        "id": "FbjF9erfQrSm",
        "outputId": "1eaf9c00-00cc-4f67-c4ef-920c31456677"
      },
      "execution_count": 22,
      "outputs": [
        {
          "output_type": "stream",
          "name": "stdout",
          "text": [
            "Writing test.txt\n"
          ]
        }
      ]
    },
    {
      "cell_type": "code",
      "source": [],
      "metadata": {
        "id": "i6kSJf7lRqPe"
      },
      "execution_count": null,
      "outputs": []
    }
  ]
}